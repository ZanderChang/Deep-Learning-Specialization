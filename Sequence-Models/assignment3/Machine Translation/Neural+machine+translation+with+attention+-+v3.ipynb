{
 "cells": [
  {
   "cell_type": "markdown",
   "metadata": {},
   "source": [
    "# Neural Machine Translation\n",
    "\n",
    "Welcome to your first programming assignment for this week! \n",
    "\n",
    "You will build a Neural Machine Translation (NMT) model to translate human readable dates (\"25th of June, 2009\") into machine readable dates (\"2009-06-25\"). You will do this using an attention model, one of the most sophisticated sequence to sequence models. \n",
    "\n",
    "This notebook was produced together with NVIDIA's Deep Learning Institute. \n",
    "\n",
    "Let's load all the packages you will need for this assignment."
   ]
  },
  {
   "cell_type": "code",
   "execution_count": 1,
   "metadata": {},
   "outputs": [
    {
     "name": "stderr",
     "output_type": "stream",
     "text": [
      "D:\\Anaconda3\\lib\\site-packages\\h5py\\__init__.py:72: UserWarning: h5py is running against HDF5 1.10.2 when it was built against 1.10.3, this may cause problems\n",
      "  '{0}.{1}.{2}'.format(*version.hdf5_built_version_tuple)\n",
      "Using TensorFlow backend.\n"
     ]
    }
   ],
   "source": [
    "from keras.layers import Bidirectional, Concatenate, Permute, Dot, Input, LSTM, Multiply\n",
    "from keras.layers import RepeatVector, Dense, Activation, Lambda\n",
    "from keras.optimizers import Adam\n",
    "from keras.utils import to_categorical\n",
    "from keras.models import load_model, Model\n",
    "import keras.backend as K\n",
    "import numpy as np\n",
    "\n",
    "from faker import Faker\n",
    "import random\n",
    "from tqdm import tqdm\n",
    "from babel.dates import format_date\n",
    "from nmt_utils import *\n",
    "import matplotlib.pyplot as plt\n",
    "%matplotlib inline"
   ]
  },
  {
   "cell_type": "markdown",
   "metadata": {},
   "source": [
    "## 1 - Translating human readable dates into machine readable dates\n",
    "\n",
    "The model you will build here could be used to translate from one language to another, such as translating from English to Hindi. However, language translation requires massive datasets and usually takes days of training on GPUs. To give you a place to experiment with these models even without using massive datasets, we will instead use a simpler \"date translation\" task. \n",
    "\n",
    "The network will input a date written in a variety of possible formats (*e.g. \"the 29th of August 1958\", \"03/30/1968\", \"24 JUNE 1987\"*) and translate them into standardized, machine readable dates (*e.g. \"1958-08-29\", \"1968-03-30\", \"1987-06-24\"*). We will have the network learn to output dates in the common machine-readable format YYYY-MM-DD. \n",
    "\n",
    "\n",
    "\n",
    "<!-- \n",
    "Take a look at [nmt_utils.py](./nmt_utils.py) to see all the formatting. Count and figure out how the formats work, you will need this knowledge later. !--> "
   ]
  },
  {
   "cell_type": "markdown",
   "metadata": {},
   "source": [
    "### 1.1 - Dataset\n",
    "\n",
    "We will train the model on a dataset of 10000 human readable dates and their equivalent, standardized, machine readable dates. Let's run the following cells to load the dataset and print some examples. "
   ]
  },
  {
   "cell_type": "code",
   "execution_count": 2,
   "metadata": {},
   "outputs": [
    {
     "name": "stderr",
     "output_type": "stream",
     "text": [
      "100%|█████████████████████████████████████████████████████████| 10000/10000 [00:00<00:00, 20420.33it/s]\n"
     ]
    }
   ],
   "source": [
    "m = 10000\n",
    "dataset, human_vocab, machine_vocab, inv_machine_vocab = load_dataset(m)"
   ]
  },
  {
   "cell_type": "code",
   "execution_count": 3,
   "metadata": {},
   "outputs": [
    {
     "data": {
      "text/plain": [
       "[('9 may 1998', '1998-05-09'),\n",
       " ('10.09.70', '1970-09-10'),\n",
       " ('4/28/90', '1990-04-28'),\n",
       " ('thursday january 26 1995', '1995-01-26'),\n",
       " ('monday march 7 1983', '1983-03-07'),\n",
       " ('sunday may 22 1988', '1988-05-22'),\n",
       " ('tuesday july 8 2008', '2008-07-08'),\n",
       " ('08 sep 1999', '1999-09-08'),\n",
       " ('1 jan 1981', '1981-01-01'),\n",
       " ('monday may 22 1995', '1995-05-22')]"
      ]
     },
     "execution_count": 3,
     "metadata": {},
     "output_type": "execute_result"
    }
   ],
   "source": [
    "dataset[:10]"
   ]
  },
  {
   "cell_type": "markdown",
   "metadata": {},
   "source": [
    "You've loaded:\n",
    "- `dataset`: a list of tuples of (human readable date, machine readable date)\n",
    "- `human_vocab`: a python dictionary mapping all characters used in the human readable dates to an integer-valued index \n",
    "- `machine_vocab`: a python dictionary mapping all characters used in machine readable dates to an integer-valued index. These indices are not necessarily consistent with `human_vocab`. \n",
    "- `inv_machine_vocab`: the inverse dictionary of `machine_vocab`, mapping from indices back to characters. \n",
    "\n",
    "Let's preprocess the data and map the raw text data into the index values. We will also use Tx=30 (which we assume is the maximum length of the human readable date; if we get a longer input, we would have to truncate it) and Ty=10 (since \"YYYY-MM-DD\" is 10 characters long). "
   ]
  },
  {
   "cell_type": "code",
   "execution_count": 4,
   "metadata": {},
   "outputs": [
    {
     "name": "stdout",
     "output_type": "stream",
     "text": [
      "X.shape: (10000, 30)\n",
      "Y.shape: (10000, 10)\n",
      "Xoh.shape: (10000, 30, 37)\n",
      "Yoh.shape: (10000, 10, 11)\n"
     ]
    }
   ],
   "source": [
    "Tx = 30\n",
    "Ty = 10\n",
    "X, Y, Xoh, Yoh = preprocess_data(dataset, human_vocab, machine_vocab, Tx, Ty)\n",
    "\n",
    "print(\"X.shape:\", X.shape)\n",
    "print(\"Y.shape:\", Y.shape)\n",
    "print(\"Xoh.shape:\", Xoh.shape)\n",
    "print(\"Yoh.shape:\", Yoh.shape)"
   ]
  },
  {
   "cell_type": "markdown",
   "metadata": {},
   "source": [
    "You now have:\n",
    "- `X`: a processed version of the human readable dates in the training set, where each character is replaced by an index mapped to the character via `human_vocab`. Each date is further padded to $T_x$ values with a special character (< pad >). `X.shape = (m, Tx)`\n",
    "- `Y`: a processed version of the machine readable dates in the training set, where each character is replaced by the index it is mapped to in `machine_vocab`. You should have `Y.shape = (m, Ty)`. \n",
    "- `Xoh`: one-hot version of `X`, the \"1\" entry's index is mapped to the character thanks to `human_vocab`. `Xoh.shape = (m, Tx, len(human_vocab))`\n",
    "- `Yoh`: one-hot version of `Y`, the \"1\" entry's index is mapped to the character thanks to `machine_vocab`. `Yoh.shape = (m, Tx, len(machine_vocab))`. Here, `len(machine_vocab) = 11` since there are 11 characters ('-' as well as 0-9). \n"
   ]
  },
  {
   "cell_type": "markdown",
   "metadata": {},
   "source": [
    "Lets also look at some examples of preprocessed training examples. Feel free to play with `index` in the cell below to navigate the dataset and see how source/target dates are preprocessed. "
   ]
  },
  {
   "cell_type": "code",
   "execution_count": 5,
   "metadata": {},
   "outputs": [
    {
     "name": "stdout",
     "output_type": "stream",
     "text": [
      "Source date: 9 may 1998\n",
      "Target date: 1998-05-09\n",
      "\n",
      "Source after preprocessing (indices): [12  0 24 13 34  0  4 12 12 11 36 36 36 36 36 36 36 36 36 36 36 36 36 36\n",
      " 36 36 36 36 36 36]\n",
      "Target after preprocessing (indices): [ 2 10 10  9  0  1  6  0  1 10]\n",
      "\n",
      "Source after preprocessing (one-hot): [[0. 0. 0. ... 0. 0. 0.]\n",
      " [1. 0. 0. ... 0. 0. 0.]\n",
      " [0. 0. 0. ... 0. 0. 0.]\n",
      " ...\n",
      " [0. 0. 0. ... 0. 0. 1.]\n",
      " [0. 0. 0. ... 0. 0. 1.]\n",
      " [0. 0. 0. ... 0. 0. 1.]]\n",
      "Target after preprocessing (one-hot): [[0. 0. 1. 0. 0. 0. 0. 0. 0. 0. 0.]\n",
      " [0. 0. 0. 0. 0. 0. 0. 0. 0. 0. 1.]\n",
      " [0. 0. 0. 0. 0. 0. 0. 0. 0. 0. 1.]\n",
      " [0. 0. 0. 0. 0. 0. 0. 0. 0. 1. 0.]\n",
      " [1. 0. 0. 0. 0. 0. 0. 0. 0. 0. 0.]\n",
      " [0. 1. 0. 0. 0. 0. 0. 0. 0. 0. 0.]\n",
      " [0. 0. 0. 0. 0. 0. 1. 0. 0. 0. 0.]\n",
      " [1. 0. 0. 0. 0. 0. 0. 0. 0. 0. 0.]\n",
      " [0. 1. 0. 0. 0. 0. 0. 0. 0. 0. 0.]\n",
      " [0. 0. 0. 0. 0. 0. 0. 0. 0. 0. 1.]]\n"
     ]
    }
   ],
   "source": [
    "index = 0\n",
    "print(\"Source date:\", dataset[index][0])\n",
    "print(\"Target date:\", dataset[index][1])\n",
    "print()\n",
    "print(\"Source after preprocessing (indices):\", X[index])\n",
    "print(\"Target after preprocessing (indices):\", Y[index])\n",
    "print()\n",
    "print(\"Source after preprocessing (one-hot):\", Xoh[index])\n",
    "print(\"Target after preprocessing (one-hot):\", Yoh[index])"
   ]
  },
  {
   "cell_type": "markdown",
   "metadata": {},
   "source": [
    "## 2 - Neural machine translation with attention\n",
    "\n",
    "If you had to translate a book's paragraph from French to English, you would not read the whole paragraph, then close the book and translate. Even during the translation process, you would read/re-read and focus on the parts of the French paragraph corresponding to the parts of the English you are writing down. \n",
    "\n",
    "The attention mechanism tells a Neural Machine Translation model where it should pay attention to at any step. \n",
    "\n",
    "\n",
    "### 2.1 - Attention mechanism\n",
    "\n",
    "In this part, you will implement the attention mechanism presented in the lecture videos. Here is a figure to remind you how the model works. The diagram on the left shows the attention model. The diagram on the right shows what one \"Attention\" step does to calculate the attention variables $\\alpha^{\\langle t, t' \\rangle}$, which are used to compute the context variable $context^{\\langle t \\rangle}$ for each timestep in the output ($t=1, \\ldots, T_y$). \n",
    "\n",
    "<table>\n",
    "<td> \n",
    "<img src=\"images/attn_model.png\" style=\"width:500;height:500px;\"> <br>\n",
    "</td> \n",
    "<td> \n",
    "<img src=\"images/attn_mechanism.png\" style=\"width:500;height:500px;\"> <br>\n",
    "</td> \n",
    "</table>\n",
    "<caption><center> **Figure 1**: Neural machine translation with attention</center></caption>\n"
   ]
  },
  {
   "cell_type": "markdown",
   "metadata": {},
   "source": [
    "\n",
    "Here are some properties of the model that you may notice: \n",
    "\n",
    "- There are two separate LSTMs in this model (see diagram on the left). Because the one at the bottom of the picture is a Bi-directional LSTM and comes *before* the attention mechanism, we will call it *pre-attention* Bi-LSTM. The LSTM at the top of the diagram comes *after* the attention mechanism, so we will call it the *post-attention* LSTM. The pre-attention Bi-LSTM goes through $T_x$ time steps; the post-attention LSTM goes through $T_y$ time steps. \n",
    "\n",
    "- The post-attention LSTM passes $s^{\\langle t \\rangle}, c^{\\langle t \\rangle}$ from one time step to the next. In the lecture videos, we were using only a basic RNN for the post-activation sequence model, so the state captured by the RNN output activations $s^{\\langle t\\rangle}$. But since we are using an LSTM here, the LSTM has both the output activation $s^{\\langle t\\rangle}$ and the hidden cell state $c^{\\langle t\\rangle}$. However, unlike previous text generation examples (such as Dinosaurus in week 1), in this model the post-activation LSTM at time $t$ does will not take the specific generated $y^{\\langle t-1 \\rangle}$ as input; it only takes $s^{\\langle t\\rangle}$ and $c^{\\langle t\\rangle}$ as input. We have designed the model this way, because (unlike language generation where adjacent characters are highly correlated) there isn't as strong a dependency between the previous character and the next character in a YYYY-MM-DD date. \n",
    "\n",
    "- We use $a^{\\langle t \\rangle} = [\\overrightarrow{a}^{\\langle t \\rangle}; \\overleftarrow{a}^{\\langle t \\rangle}]$ to represent the concatenation of the activations of both the forward-direction and backward-directions of the pre-attention Bi-LSTM. \n",
    "\n",
    "- The diagram on the right uses a `RepeatVector` node to copy $s^{\\langle t-1 \\rangle}$'s value $T_x$ times, and then `Concatenation` to concatenate $s^{\\langle t-1 \\rangle}$ and $a^{\\langle t \\rangle}$ to compute $e^{\\langle t, t'}$, which is then passed through a softmax to compute $\\alpha^{\\langle t, t' \\rangle}$. We'll explain how to use `RepeatVector` and `Concatenation` in Keras below. \n",
    "\n",
    "Lets implement this model. You will start by implementing two functions: `one_step_attention()` and `model()`.\n",
    "\n",
    "**1) `one_step_attention()`**: At step $t$, given all the hidden states of the Bi-LSTM ($[a^{<1>},a^{<2>}, ..., a^{<T_x>}]$) and the previous hidden state of the second LSTM ($s^{<t-1>}$), `one_step_attention()` will compute the attention weights ($[\\alpha^{<t,1>},\\alpha^{<t,2>}, ..., \\alpha^{<t,T_x>}]$) and output the context vector (see Figure  1 (right) for details):\n",
    "$$context^{<t>} = \\sum_{t' = 0}^{T_x} \\alpha^{<t,t'>}a^{<t'>}\\tag{1}$$ \n",
    "\n",
    "Note that we are denoting the attention in this notebook $context^{\\langle t \\rangle}$. In the lecture videos, the context was denoted $c^{\\langle t \\rangle}$, but here we are calling it $context^{\\langle t \\rangle}$ to avoid confusion with the (post-attention) LSTM's internal memory cell variable, which is sometimes also denoted $c^{\\langle t \\rangle}$. \n",
    "  \n",
    "**2) `model()`**: Implements the entire model. It first runs the input through a Bi-LSTM to get back $[a^{<1>},a^{<2>}, ..., a^{<T_x>}]$. Then, it calls `one_step_attention()` $T_y$ times (`for` loop). At each iteration of this loop, it gives the computed context vector $c^{<t>}$ to the second LSTM, and runs the output of the LSTM through a dense layer with softmax activation to generate a prediction $\\hat{y}^{<t>}$. \n",
    "\n",
    "\n",
    "\n",
    "**Exercise**: Implement `one_step_attention()`. The function `model()` will call the layers in `one_step_attention()` $T_y$ using a for-loop, and it is important that all $T_y$ copies have the same weights. I.e., it should not re-initiaiize the weights every time. In other words, all $T_y$ steps should have shared weights. Here's how you can implement layers with shareable weights in Keras:\n",
    "1. Define the layer objects (as global variables for examples).\n",
    "2. Call these objects when propagating the input.\n",
    "\n",
    "We have defined the layers you need as global variables. Please run the following cells to create them. Please check the Keras documentation to make sure you understand what these layers are: [RepeatVector()](https://keras.io/layers/core/#repeatvector), [Concatenate()](https://keras.io/layers/merge/#concatenate), [Dense()](https://keras.io/layers/core/#dense), [Activation()](https://keras.io/layers/core/#activation), [Dot()](https://keras.io/layers/merge/#dot)."
   ]
  },
  {
   "cell_type": "code",
   "execution_count": 6,
   "metadata": {
    "collapsed": true
   },
   "outputs": [],
   "source": [
    "# Defined shared layers as global variables\n",
    "repeator = RepeatVector(Tx)\n",
    "concatenator = Concatenate(axis=-1)\n",
    "densor1 = Dense(10, activation = \"tanh\")\n",
    "densor2 = Dense(1, activation = \"relu\")\n",
    "activator = Activation(softmax, name='attention_weights') # We are using a custom softmax(axis = 1) loaded in this notebook\n",
    "dotor = Dot(axes = 1)"
   ]
  },
  {
   "cell_type": "markdown",
   "metadata": {},
   "source": [
    "Now you can use these layers to implement `one_step_attention()`. In order to propagate a Keras tensor object X through one of these layers, use `layer(X)` (or `layer([X,Y])` if it requires multiple inputs.), e.g. `densor(X)` will propagate X through the `Dense(1)` layer defined above."
   ]
  },
  {
   "cell_type": "code",
   "execution_count": 7,
   "metadata": {
    "collapsed": true
   },
   "outputs": [],
   "source": [
    "# GRADED FUNCTION: one_step_attention\n",
    "\n",
    "def one_step_attention(a, s_prev):\n",
    "    \"\"\"\n",
    "    Performs one step of attention: Outputs a context vector computed as a dot product of the attention weights\n",
    "    \"alphas\" and the hidden states \"a\" of the Bi-LSTM.\n",
    "    \n",
    "    Arguments:\n",
    "    a -- hidden state output of the Bi-LSTM, numpy-array of shape (m, Tx, 2*n_a)\n",
    "    s_prev -- previous hidden state of the (post-attention) LSTM, numpy-array of shape (m, n_s)\n",
    "    \n",
    "    Returns:\n",
    "    context -- context vector, input of the next (post-attetion) LSTM cell\n",
    "    \"\"\"\n",
    "    \n",
    "    ### START CODE HERE ###\n",
    "    # Use repeator to repeat s_prev to be of shape (m, Tx, n_s) so that you can concatenate it with all hidden states \"a\" (≈ 1 line)\n",
    "    s_prev = repeator(s_prev)\n",
    "    # Use concatenator to concatenate a and s_prev on the last axis (≈ 1 line)\n",
    "    concat = concatenator([a, s_prev])\n",
    "    # Use densor1 to propagate concat through a small fully-connected neural network to compute the \"intermediate energies\" variable e. (≈1 lines)\n",
    "    e = densor1(concat)\n",
    "    # Use densor2 to propagate e through a small fully-connected neural network to compute the \"energies\" variable energies. (≈1 lines)\n",
    "    energies = densor2(e)\n",
    "    # Use \"activator\" on \"energies\" to compute the attention weights \"alphas\" (≈ 1 line)\n",
    "    alphas = activator(energies)\n",
    "    # Use dotor together with \"alphas\" and \"a\" to compute the context vector to be given to the next (post-attention) LSTM-cell (≈ 1 line)\n",
    "    context = dotor([alphas, a])\n",
    "    ### END CODE HERE ###\n",
    "    \n",
    "    return context"
   ]
  },
  {
   "cell_type": "markdown",
   "metadata": {},
   "source": [
    "You will be able to check the expected output of `one_step_attention()` after you've coded the `model()` function."
   ]
  },
  {
   "cell_type": "markdown",
   "metadata": {},
   "source": [
    "**Exercise**: Implement `model()` as explained in figure 2 and the text above. Again, we have defined global layers that will share weights to be used in `model()`."
   ]
  },
  {
   "cell_type": "code",
   "execution_count": 15,
   "metadata": {
    "collapsed": true
   },
   "outputs": [],
   "source": [
    "n_a = 32\n",
    "n_s = 64\n",
    "post_activation_LSTM_cell = LSTM(n_s, return_state = True)\n",
    "output_layer = Dense(len(machine_vocab), activation=softmax)"
   ]
  },
  {
   "cell_type": "markdown",
   "metadata": {},
   "source": [
    "Now you can use these layers $T_y$ times in a `for` loop to generate the outputs, and their parameters will not be reinitialized. You will have to carry out the following steps: \n",
    "\n",
    "1. Propagate the input into a [Bidirectional](https://keras.io/layers/wrappers/#bidirectional) [LSTM](https://keras.io/layers/recurrent/#lstm)\n",
    "2. Iterate for $t = 0, \\dots, T_y-1$: \n",
    "    1. Call `one_step_attention()` on $[\\alpha^{<t,1>},\\alpha^{<t,2>}, ..., \\alpha^{<t,T_x>}]$ and $s^{<t-1>}$ to get the context vector $context^{<t>}$.\n",
    "    2. Give $context^{<t>}$ to the post-attention LSTM cell. Remember pass in the previous hidden-state $s^{\\langle t-1\\rangle}$ and cell-states $c^{\\langle t-1\\rangle}$ of this LSTM using `initial_state= [previous hidden state, previous cell state]`. Get back the new hidden state $s^{<t>}$ and the new cell state $c^{<t>}$.\n",
    "    3. Apply a softmax layer to $s^{<t>}$, get the output. \n",
    "    4. Save the output by adding it to the list of outputs.\n",
    "\n",
    "3. Create your Keras model instance, it should have three inputs (\"inputs\", $s^{<0>}$ and $c^{<0>}$) and output the list of \"outputs\"."
   ]
  },
  {
   "cell_type": "code",
   "execution_count": 16,
   "metadata": {
    "collapsed": true
   },
   "outputs": [],
   "source": [
    "# GRADED FUNCTION: model\n",
    "\n",
    "def model(Tx, Ty, n_a, n_s, human_vocab_size, machine_vocab_size):\n",
    "    \"\"\"\n",
    "    Arguments:\n",
    "    Tx -- length of the input sequence\n",
    "    Ty -- length of the output sequence\n",
    "    n_a -- hidden state size of the Bi-LSTM\n",
    "    n_s -- hidden state size of the post-attention LSTM\n",
    "    human_vocab_size -- size of the python dictionary \"human_vocab\"\n",
    "    machine_vocab_size -- size of the python dictionary \"machine_vocab\"\n",
    "\n",
    "    Returns:\n",
    "    model -- Keras model instance\n",
    "    \"\"\"\n",
    "    \n",
    "    # Define the inputs of your model with a shape (Tx,)\n",
    "    # Define s0 and c0, initial hidden state for the decoder LSTM of shape (n_s,)\n",
    "    X = Input(shape=(Tx, human_vocab_size))\n",
    "    s0 = Input(shape=(n_s,), name='s0')\n",
    "    c0 = Input(shape=(n_s,), name='c0')\n",
    "    s = s0\n",
    "    c = c0\n",
    "    \n",
    "    # Initialize empty list of outputs\n",
    "    outputs = []\n",
    "    \n",
    "    ### START CODE HERE ###\n",
    "    \n",
    "    # Step 1: Define your pre-attention Bi-LSTM. Remember to use return_sequences=True. (≈ 1 line)\n",
    "    a = Bidirectional(LSTM(n_a, return_sequences=True))(X)\n",
    "    \n",
    "    # Step 2: Iterate for Ty steps\n",
    "    for t in range(Ty):\n",
    "    \n",
    "        # Step 2.A: Perform one step of the attention mechanism to get back the context vector at step t (≈ 1 line)\n",
    "        context = one_step_attention(a, s)\n",
    "        \n",
    "        # Step 2.B: Apply the post-attention LSTM cell to the \"context\" vector.\n",
    "        # Don't forget to pass: initial_state = [hidden state, cell state] (≈ 1 line)\n",
    "        s, _, c = post_activation_LSTM_cell(context, initial_state=[s, c])\n",
    "        \n",
    "        # Step 2.C: Apply Dense layer to the hidden state output of the post-attention LSTM (≈ 1 line)\n",
    "        out = output_layer(s)\n",
    "        \n",
    "        # Step 2.D: Append \"out\" to the \"outputs\" list (≈ 1 line)\n",
    "        outputs.append(out)\n",
    "    \n",
    "    # Step 3: Create model instance taking three inputs and returning the list of outputs. (≈ 1 line)\n",
    "    model = Model(inputs=[X, s0, c0], outputs=outputs)\n",
    "    \n",
    "    ### END CODE HERE ###\n",
    "    \n",
    "    return model"
   ]
  },
  {
   "cell_type": "markdown",
   "metadata": {},
   "source": [
    "Run the following cell to create your model."
   ]
  },
  {
   "cell_type": "code",
   "execution_count": 17,
   "metadata": {
    "collapsed": true
   },
   "outputs": [],
   "source": [
    "model = model(Tx, Ty, n_a, n_s, len(human_vocab), len(machine_vocab))"
   ]
  },
  {
   "cell_type": "markdown",
   "metadata": {},
   "source": [
    "Let's get a summary of the model to check if it matches the expected output."
   ]
  },
  {
   "cell_type": "code",
   "execution_count": 18,
   "metadata": {},
   "outputs": [
    {
     "name": "stdout",
     "output_type": "stream",
     "text": [
      "__________________________________________________________________________________________________\n",
      "Layer (type)                    Output Shape         Param #     Connected to                     \n",
      "==================================================================================================\n",
      "input_3 (InputLayer)            (None, 30, 37)       0                                            \n",
      "__________________________________________________________________________________________________\n",
      "s0 (InputLayer)                 (None, 64)           0                                            \n",
      "__________________________________________________________________________________________________\n",
      "bidirectional_3 (Bidirectional) (None, 30, 64)       17920       input_3[0][0]                    \n",
      "__________________________________________________________________________________________________\n",
      "repeat_vector_1 (RepeatVector)  multiple             0           s0[0][0]                         \n",
      "                                                                 lstm_5[0][0]                     \n",
      "                                                                 lstm_5[1][0]                     \n",
      "                                                                 lstm_5[2][0]                     \n",
      "                                                                 lstm_5[3][0]                     \n",
      "                                                                 lstm_5[4][0]                     \n",
      "                                                                 lstm_5[5][0]                     \n",
      "                                                                 lstm_5[6][0]                     \n",
      "                                                                 lstm_5[7][0]                     \n",
      "                                                                 lstm_5[8][0]                     \n",
      "__________________________________________________________________________________________________\n",
      "concatenate_1 (Concatenate)     multiple             0           bidirectional_3[0][0]            \n",
      "                                                                 repeat_vector_1[11][0]           \n",
      "                                                                 bidirectional_3[0][0]            \n",
      "                                                                 repeat_vector_1[12][0]           \n",
      "                                                                 bidirectional_3[0][0]            \n",
      "                                                                 repeat_vector_1[13][0]           \n",
      "                                                                 bidirectional_3[0][0]            \n",
      "                                                                 repeat_vector_1[14][0]           \n",
      "                                                                 bidirectional_3[0][0]            \n",
      "                                                                 repeat_vector_1[15][0]           \n",
      "                                                                 bidirectional_3[0][0]            \n",
      "                                                                 repeat_vector_1[16][0]           \n",
      "                                                                 bidirectional_3[0][0]            \n",
      "                                                                 repeat_vector_1[17][0]           \n",
      "                                                                 bidirectional_3[0][0]            \n",
      "                                                                 repeat_vector_1[18][0]           \n",
      "                                                                 bidirectional_3[0][0]            \n",
      "                                                                 repeat_vector_1[19][0]           \n",
      "                                                                 bidirectional_3[0][0]            \n",
      "                                                                 repeat_vector_1[20][0]           \n",
      "__________________________________________________________________________________________________\n",
      "dense_1 (Dense)                 (None, 30, 10)       1290        concatenate_1[11][0]             \n",
      "                                                                 concatenate_1[12][0]             \n",
      "                                                                 concatenate_1[13][0]             \n",
      "                                                                 concatenate_1[14][0]             \n",
      "                                                                 concatenate_1[15][0]             \n",
      "                                                                 concatenate_1[16][0]             \n",
      "                                                                 concatenate_1[17][0]             \n",
      "                                                                 concatenate_1[18][0]             \n",
      "                                                                 concatenate_1[19][0]             \n",
      "                                                                 concatenate_1[20][0]             \n",
      "__________________________________________________________________________________________________\n",
      "dense_2 (Dense)                 (None, 30, 1)        11          dense_1[10][0]                   \n",
      "                                                                 dense_1[11][0]                   \n",
      "                                                                 dense_1[12][0]                   \n",
      "                                                                 dense_1[13][0]                   \n",
      "                                                                 dense_1[14][0]                   \n",
      "                                                                 dense_1[15][0]                   \n",
      "                                                                 dense_1[16][0]                   \n",
      "                                                                 dense_1[17][0]                   \n",
      "                                                                 dense_1[18][0]                   \n",
      "                                                                 dense_1[19][0]                   \n",
      "__________________________________________________________________________________________________\n",
      "attention_weights (Activation)  (None, 30, 1)        0           dense_2[10][0]                   \n",
      "                                                                 dense_2[11][0]                   \n",
      "                                                                 dense_2[12][0]                   \n",
      "                                                                 dense_2[13][0]                   \n",
      "                                                                 dense_2[14][0]                   \n",
      "                                                                 dense_2[15][0]                   \n",
      "                                                                 dense_2[16][0]                   \n",
      "                                                                 dense_2[17][0]                   \n",
      "                                                                 dense_2[18][0]                   \n",
      "                                                                 dense_2[19][0]                   \n",
      "__________________________________________________________________________________________________\n",
      "dot_1 (Dot)                     (None, 1, 64)        0           attention_weights[10][0]         \n",
      "                                                                 bidirectional_3[0][0]            \n",
      "                                                                 attention_weights[11][0]         \n",
      "                                                                 bidirectional_3[0][0]            \n",
      "                                                                 attention_weights[12][0]         \n",
      "                                                                 bidirectional_3[0][0]            \n",
      "                                                                 attention_weights[13][0]         \n",
      "                                                                 bidirectional_3[0][0]            \n",
      "                                                                 attention_weights[14][0]         \n",
      "                                                                 bidirectional_3[0][0]            \n",
      "                                                                 attention_weights[15][0]         \n",
      "                                                                 bidirectional_3[0][0]            \n",
      "                                                                 attention_weights[16][0]         \n",
      "                                                                 bidirectional_3[0][0]            \n",
      "                                                                 attention_weights[17][0]         \n",
      "                                                                 bidirectional_3[0][0]            \n",
      "                                                                 attention_weights[18][0]         \n",
      "                                                                 bidirectional_3[0][0]            \n",
      "                                                                 attention_weights[19][0]         \n",
      "                                                                 bidirectional_3[0][0]            \n",
      "__________________________________________________________________________________________________\n",
      "c0 (InputLayer)                 (None, 64)           0                                            \n",
      "__________________________________________________________________________________________________\n",
      "lstm_5 (LSTM)                   [(None, 64), (None,  33024       dot_1[10][0]                     \n",
      "                                                                 s0[0][0]                         \n",
      "                                                                 c0[0][0]                         \n",
      "                                                                 dot_1[11][0]                     \n",
      "                                                                 lstm_5[0][0]                     \n",
      "                                                                 lstm_5[0][2]                     \n",
      "                                                                 dot_1[12][0]                     \n",
      "                                                                 lstm_5[1][0]                     \n",
      "                                                                 lstm_5[1][2]                     \n",
      "                                                                 dot_1[13][0]                     \n",
      "                                                                 lstm_5[2][0]                     \n",
      "                                                                 lstm_5[2][2]                     \n",
      "                                                                 dot_1[14][0]                     \n",
      "                                                                 lstm_5[3][0]                     \n",
      "                                                                 lstm_5[3][2]                     \n",
      "                                                                 dot_1[15][0]                     \n",
      "                                                                 lstm_5[4][0]                     \n",
      "                                                                 lstm_5[4][2]                     \n",
      "                                                                 dot_1[16][0]                     \n",
      "                                                                 lstm_5[5][0]                     \n",
      "                                                                 lstm_5[5][2]                     \n",
      "                                                                 dot_1[17][0]                     \n",
      "                                                                 lstm_5[6][0]                     \n",
      "                                                                 lstm_5[6][2]                     \n",
      "                                                                 dot_1[18][0]                     \n",
      "                                                                 lstm_5[7][0]                     \n",
      "                                                                 lstm_5[7][2]                     \n",
      "                                                                 dot_1[19][0]                     \n",
      "                                                                 lstm_5[8][0]                     \n",
      "                                                                 lstm_5[8][2]                     \n",
      "__________________________________________________________________________________________________\n",
      "dense_5 (Dense)                 (None, 11)           715         lstm_5[0][0]                     \n",
      "                                                                 lstm_5[1][0]                     \n",
      "                                                                 lstm_5[2][0]                     \n",
      "                                                                 lstm_5[3][0]                     \n",
      "                                                                 lstm_5[4][0]                     \n",
      "                                                                 lstm_5[5][0]                     \n",
      "                                                                 lstm_5[6][0]                     \n",
      "                                                                 lstm_5[7][0]                     \n",
      "                                                                 lstm_5[8][0]                     \n",
      "                                                                 lstm_5[9][0]                     \n",
      "==================================================================================================\n",
      "Total params: 52,960\n",
      "Trainable params: 52,960\n",
      "Non-trainable params: 0\n",
      "__________________________________________________________________________________________________\n"
     ]
    }
   ],
   "source": [
    "model.summary()"
   ]
  },
  {
   "cell_type": "markdown",
   "metadata": {},
   "source": [
    "**Expected Output**:\n",
    "\n",
    "Here is the summary you should see\n",
    "<table>\n",
    "    <tr>\n",
    "        <td>\n",
    "            **Total params:**\n",
    "        </td>\n",
    "        <td>\n",
    "         185,484\n",
    "        </td>\n",
    "    </tr>\n",
    "        <tr>\n",
    "        <td>\n",
    "            **Trainable params:**\n",
    "        </td>\n",
    "        <td>\n",
    "         185,484\n",
    "        </td>\n",
    "    </tr>\n",
    "            <tr>\n",
    "        <td>\n",
    "            **Non-trainable params:**\n",
    "        </td>\n",
    "        <td>\n",
    "         0\n",
    "        </td>\n",
    "    </tr>\n",
    "                    <tr>\n",
    "        <td>\n",
    "            **bidirectional_1's output shape **\n",
    "        </td>\n",
    "        <td>\n",
    "         (None, 30, 128)  \n",
    "        </td>\n",
    "    </tr>\n",
    "    <tr>\n",
    "        <td>\n",
    "            **repeat_vector_1's output shape **\n",
    "        </td>\n",
    "        <td>\n",
    "         (None, 30, 128)  \n",
    "        </td>\n",
    "    </tr>\n",
    "                <tr>\n",
    "        <td>\n",
    "            **concatenate_1's output shape **\n",
    "        </td>\n",
    "        <td>\n",
    "         (None, 30, 256) \n",
    "        </td>\n",
    "    </tr>\n",
    "            <tr>\n",
    "        <td>\n",
    "            **attention_weights's output shape **\n",
    "        </td>\n",
    "        <td>\n",
    "         (None, 30, 1)  \n",
    "        </td>\n",
    "    </tr>\n",
    "        <tr>\n",
    "        <td>\n",
    "            **dot_1's output shape **\n",
    "        </td>\n",
    "        <td>\n",
    "         (None, 1, 128) \n",
    "        </td>\n",
    "    </tr>\n",
    "           <tr>\n",
    "        <td>\n",
    "            **dense_2's output shape **\n",
    "        </td>\n",
    "        <td>\n",
    "         (None, 11) \n",
    "        </td>\n",
    "    </tr>\n",
    "</table>\n"
   ]
  },
  {
   "cell_type": "markdown",
   "metadata": {},
   "source": [
    "As usual, after creating your model in Keras, you need to compile it and define what loss, optimizer and metrics your are want to use. Compile your model using `categorical_crossentropy` loss, a custom [Adam](https://keras.io/optimizers/#adam) [optimizer](https://keras.io/optimizers/#usage-of-optimizers) (`learning rate = 0.005`, $\\beta_1 = 0.9$, $\\beta_2 = 0.999$, `decay = 0.01`)  and `['accuracy']` metrics:"
   ]
  },
  {
   "cell_type": "code",
   "execution_count": 19,
   "metadata": {
    "collapsed": true
   },
   "outputs": [],
   "source": [
    "### START CODE HERE ### (≈2 lines)\n",
    "opt = model.compile(optimizer=Adam(lr=0.005, beta_1=0.9, beta_2=0.999, decay=0.01), metrics=['accuracy'], loss='categorical_crossentropy')\n",
    "opt\n",
    "### END CODE HERE ###"
   ]
  },
  {
   "cell_type": "markdown",
   "metadata": {},
   "source": [
    "The last step is to define all your inputs and outputs to fit the model:\n",
    "- You already have X of shape $(m = 10000, T_x = 30)$ containing the training examples.\n",
    "- You need to create `s0` and `c0` to initialize your `post_activation_LSTM_cell` with 0s.\n",
    "- Given the `model()` you coded, you need the \"outputs\" to be a list of 11 elements of shape (m, T_y). So that: `outputs[i][0], ..., outputs[i][Ty]` represent the true labels (characters) corresponding to the $i^{th}$ training example (`X[i]`). More generally, `outputs[i][j]` is the true label of the $j^{th}$ character in the $i^{th}$ training example."
   ]
  },
  {
   "cell_type": "code",
   "execution_count": 20,
   "metadata": {
    "collapsed": true
   },
   "outputs": [],
   "source": [
    "s0 = np.zeros((m, n_s))\n",
    "c0 = np.zeros((m, n_s))\n",
    "outputs = list(Yoh.swapaxes(0,1))"
   ]
  },
  {
   "cell_type": "markdown",
   "metadata": {},
   "source": [
    "Let's now fit the model and run it for one epoch."
   ]
  },
  {
   "cell_type": "code",
   "execution_count": 21,
   "metadata": {},
   "outputs": [
    {
     "name": "stdout",
     "output_type": "stream",
     "text": [
      "Epoch 1/1\n"
     ]
    },
    {
     "name": "stdout",
     "output_type": "stream",
     "text": [
      " 2900/10000 [=======>......................] - ETA: 16:46 - loss: 23.9589 - dense_5_loss: 2.3944 - dense_5_acc: 0.5500 - dense_5_acc_1: 0.0100 - dense_5_acc_2: 0.1300 - dense_5_acc_3: 0.0400 - dense_5_acc_4: 0.0000e+00 - dense_5_acc_5: 0.1200 - dense_5_acc_6: 0.1900 - dense_5_acc_7: 0.0000e+00 - dense_5_acc_8: 0.3100 - dense_5_acc_9: 0.09 - ETA: 8:24 - loss: 23.7440 - dense_5_loss: 2.4057 - dense_5_acc: 0.2750 - dense_5_acc_1: 0.1450 - dense_5_acc_2: 0.1250 - dense_5_acc_3: 0.0400 - dense_5_acc_4: 0.2050 - dense_5_acc_5: 0.2500 - dense_5_acc_6: 0.1150 - dense_5_acc_7: 0.3200 - dense_5_acc_8: 0.2100 - dense_5_acc_9: 0.0600         - ETA: 5:36 - loss: 23.5194 - dense_5_loss: 2.4180 - dense_5_acc: 0.1833 - dense_5_acc_1: 0.1367 - dense_5_acc_2: 0.0933 - dense_5_acc_3: 0.0300 - dense_5_acc_4: 0.4700 - dense_5_acc_5: 0.1667 - dense_5_acc_6: 0.0767 - dense_5_acc_7: 0.5467 - dense_5_acc_8: 0.1400 - dense_5_acc_9: 0.040 - ETA: 4:13 - loss: 23.2658 - dense_5_loss: 2.4511 - dense_5_acc: 0.1375 - dense_5_acc_1: 0.1025 - dense_5_acc_2: 0.0700 - dense_5_acc_3: 0.0225 - dense_5_acc_4: 0.6025 - dense_5_acc_5: 0.1250 - dense_5_acc_6: 0.0575 - dense_5_acc_7: 0.6600 - dense_5_acc_8: 0.1050 - dense_5_acc_9: 0.030 - ETA: 3:22 - loss: 23.0167 - dense_5_loss: 2.5603 - dense_5_acc: 0.1100 - dense_5_acc_1: 0.0820 - dense_5_acc_2: 0.0560 - dense_5_acc_3: 0.0180 - dense_5_acc_4: 0.6820 - dense_5_acc_5: 0.1000 - dense_5_acc_6: 0.0460 - dense_5_acc_7: 0.7280 - dense_5_acc_8: 0.0840 - dense_5_acc_9: 0.024 - ETA: 2:49 - loss: 22.8791 - dense_5_loss: 2.7207 - dense_5_acc: 0.0917 - dense_5_acc_1: 0.0683 - dense_5_acc_2: 0.0467 - dense_5_acc_3: 0.0150 - dense_5_acc_4: 0.7350 - dense_5_acc_5: 0.0833 - dense_5_acc_6: 0.0383 - dense_5_acc_7: 0.7733 - dense_5_acc_8: 0.0700 - dense_5_acc_9: 0.020 - ETA: 2:24 - loss: 22.6712 - dense_5_loss: 2.7770 - dense_5_acc: 0.0786 - dense_5_acc_1: 0.0586 - dense_5_acc_2: 0.0400 - dense_5_acc_3: 0.0129 - dense_5_acc_4: 0.7729 - dense_5_acc_5: 0.0714 - dense_5_acc_6: 0.0329 - dense_5_acc_7: 0.8057 - dense_5_acc_8: 0.0600 - dense_5_acc_9: 0.017 - ETA: 2:06 - loss: 22.5639 - dense_5_loss: 2.8216 - dense_5_acc: 0.0688 - dense_5_acc_1: 0.1013 - dense_5_acc_2: 0.0512 - dense_5_acc_3: 0.0112 - dense_5_acc_4: 0.8012 - dense_5_acc_5: 0.0625 - dense_5_acc_6: 0.0287 - dense_5_acc_7: 0.8300 - dense_5_acc_8: 0.0525 - dense_5_acc_9: 0.015 - ETA: 1:52 - loss: 22.4888 - dense_5_loss: 2.8322 - dense_5_acc: 0.0611 - dense_5_acc_1: 0.1322 - dense_5_acc_2: 0.0656 - dense_5_acc_3: 0.0100 - dense_5_acc_4: 0.8233 - dense_5_acc_5: 0.0556 - dense_5_acc_6: 0.0256 - dense_5_acc_7: 0.8489 - dense_5_acc_8: 0.0467 - dense_5_acc_9: 0.013 - ETA: 1:41 - loss: 22.4149 - dense_5_loss: 2.8363 - dense_5_acc: 0.0550 - dense_5_acc_1: 0.1490 - dense_5_acc_2: 0.0760 - dense_5_acc_3: 0.0090 - dense_5_acc_4: 0.8410 - dense_5_acc_5: 0.0500 - dense_5_acc_6: 0.0230 - dense_5_acc_7: 0.8640 - dense_5_acc_8: 0.0420 - dense_5_acc_9: 0.012 - ETA: 1:32 - loss: 22.3254 - dense_5_loss: 2.8322 - dense_5_acc: 0.0500 - dense_5_acc_1: 0.1755 - dense_5_acc_2: 0.0891 - dense_5_acc_3: 0.0082 - dense_5_acc_4: 0.8555 - dense_5_acc_5: 0.0455 - dense_5_acc_6: 0.0209 - dense_5_acc_7: 0.8764 - dense_5_acc_8: 0.0382 - dense_5_acc_9: 0.010 - ETA: 1:24 - loss: 22.2681 - dense_5_loss: 2.8367 - dense_5_acc: 0.0458 - dense_5_acc_1: 0.1975 - dense_5_acc_2: 0.0983 - dense_5_acc_3: 0.0075 - dense_5_acc_4: 0.8675 - dense_5_acc_5: 0.0417 - dense_5_acc_6: 0.0192 - dense_5_acc_7: 0.8867 - dense_5_acc_8: 0.0350 - dense_5_acc_9: 0.010 - ETA: 1:17 - loss: 22.2191 - dense_5_loss: 2.8378 - dense_5_acc: 0.0423 - dense_5_acc_1: 0.2100 - dense_5_acc_2: 0.1046 - dense_5_acc_3: 0.0069 - dense_5_acc_4: 0.8777 - dense_5_acc_5: 0.0385 - dense_5_acc_6: 0.0177 - dense_5_acc_7: 0.8954 - dense_5_acc_8: 0.0323 - dense_5_acc_9: 0.009 - ETA: 1:12 - loss: 22.1547 - dense_5_loss: 2.8389 - dense_5_acc: 0.0393 - dense_5_acc_1: 0.2250 - dense_5_acc_2: 0.1150 - dense_5_acc_3: 0.0071 - dense_5_acc_4: 0.8864 - dense_5_acc_5: 0.0357 - dense_5_acc_6: 0.0164 - dense_5_acc_7: 0.9029 - dense_5_acc_8: 0.0300 - dense_5_acc_9: 0.008 - ETA: 1:07 - loss: 22.0934 - dense_5_loss: 2.8385 - dense_5_acc: 0.0367 - dense_5_acc_1: 0.2360 - dense_5_acc_2: 0.1220 - dense_5_acc_3: 0.0080 - dense_5_acc_4: 0.8940 - dense_5_acc_5: 0.0333 - dense_5_acc_6: 0.0153 - dense_5_acc_7: 0.9093 - dense_5_acc_8: 0.0280 - dense_5_acc_9: 0.008 - ETA: 1:02 - loss: 22.0400 - dense_5_loss: 2.8430 - dense_5_acc: 0.0344 - dense_5_acc_1: 0.2425 - dense_5_acc_2: 0.1288 - dense_5_acc_3: 0.0156 - dense_5_acc_4: 0.9006 - dense_5_acc_5: 0.0312 - dense_5_acc_6: 0.0144 - dense_5_acc_7: 0.9150 - dense_5_acc_8: 0.0263 - dense_5_acc_9: 0.007 - ETA: 59s - loss: 21.9870 - dense_5_loss: 2.8412 - dense_5_acc: 0.0324 - dense_5_acc_1: 0.2529 - dense_5_acc_2: 0.1324 - dense_5_acc_3: 0.0182 - dense_5_acc_4: 0.9065 - dense_5_acc_5: 0.0294 - dense_5_acc_6: 0.0135 - dense_5_acc_7: 0.9200 - dense_5_acc_8: 0.0247 - dense_5_acc_9: 0.007 - ETA: 55s - loss: 21.9387 - dense_5_loss: 2.8371 - dense_5_acc: 0.0306 - dense_5_acc_1: 0.2556 - dense_5_acc_2: 0.1328 - dense_5_acc_3: 0.0211 - dense_5_acc_4: 0.9117 - dense_5_acc_5: 0.0278 - dense_5_acc_6: 0.0128 - dense_5_acc_7: 0.9244 - dense_5_acc_8: 0.0233 - dense_5_acc_9: 0.00 - ETA: 52s - loss: 21.8880 - dense_5_loss: 2.8404 - dense_5_acc: 0.0289 - dense_5_acc_1: 0.2626 - dense_5_acc_2: 0.1384 - dense_5_acc_3: 0.0216 - dense_5_acc_4: 0.9163 - dense_5_acc_5: 0.0263 - dense_5_acc_6: 0.0121 - dense_5_acc_7: 0.9284 - dense_5_acc_8: 0.0221 - dense_5_acc_9: 0.00 - ETA: 49s - loss: 21.8260 - dense_5_loss: 2.8354 - dense_5_acc: 0.0275 - dense_5_acc_1: 0.2730 - dense_5_acc_2: 0.1410 - dense_5_acc_3: 0.0205 - dense_5_acc_4: 0.9205 - dense_5_acc_5: 0.0250 - dense_5_acc_6: 0.0115 - dense_5_acc_7: 0.9320 - dense_5_acc_8: 0.0210 - dense_5_acc_9: 0.00 - ETA: 47s - loss: 21.7717 - dense_5_loss: 2.8307 - dense_5_acc: 0.0262 - dense_5_acc_1: 0.2781 - dense_5_acc_2: 0.1438 - dense_5_acc_3: 0.0195 - dense_5_acc_4: 0.9243 - dense_5_acc_5: 0.0238 - dense_5_acc_6: 0.0110 - dense_5_acc_7: 0.9352 - dense_5_acc_8: 0.0200 - dense_5_acc_9: 0.00 - ETA: 45s - loss: 21.7314 - dense_5_loss: 2.8300 - dense_5_acc: 0.0250 - dense_5_acc_1: 0.2841 - dense_5_acc_2: 0.1436 - dense_5_acc_3: 0.0195 - dense_5_acc_4: 0.9277 - dense_5_acc_5: 0.0227 - dense_5_acc_6: 0.0105 - dense_5_acc_7: 0.9382 - dense_5_acc_8: 0.0191 - dense_5_acc_9: 0.00 - ETA: 42s - loss: 21.6802 - dense_5_loss: 2.8218 - dense_5_acc: 0.0239 - dense_5_acc_1: 0.2861 - dense_5_acc_2: 0.1439 - dense_5_acc_3: 0.0222 - dense_5_acc_4: 0.9309 - dense_5_acc_5: 0.0217 - dense_5_acc_6: 0.0100 - dense_5_acc_7: 0.9409 - dense_5_acc_8: 0.0183 - dense_5_acc_9: 0.00 - ETA: 40s - loss: 21.6355 - dense_5_loss: 2.8183 - dense_5_acc: 0.0229 - dense_5_acc_1: 0.2887 - dense_5_acc_2: 0.1475 - dense_5_acc_3: 0.0242 - dense_5_acc_4: 0.9337 - dense_5_acc_5: 0.0208 - dense_5_acc_6: 0.0096 - dense_5_acc_7: 0.9433 - dense_5_acc_8: 0.0175 - dense_5_acc_9: 0.00 - ETA: 39s - loss: 21.5867 - dense_5_loss: 2.8199 - dense_5_acc: 0.0220 - dense_5_acc_1: 0.3000 - dense_5_acc_2: 0.1496 - dense_5_acc_3: 0.0280 - dense_5_acc_4: 0.9364 - dense_5_acc_5: 0.0200 - dense_5_acc_6: 0.0092 - dense_5_acc_7: 0.9456 - dense_5_acc_8: 0.0168 - dense_5_acc_9: 0.00 - ETA: 37s - loss: 21.5420 - dense_5_loss: 2.8157 - dense_5_acc: 0.0212 - dense_5_acc_1: 0.3100 - dense_5_acc_2: 0.1500 - dense_5_acc_3: 0.0312 - dense_5_acc_4: 0.9388 - dense_5_acc_5: 0.0192 - dense_5_acc_6: 0.0088 - dense_5_acc_7: 0.9477 - dense_5_acc_8: 0.0162 - dense_5_acc_9: 0.00 - ETA: 35s - loss: 21.4975 - dense_5_loss: 2.8111 - dense_5_acc: 0.0204 - dense_5_acc_1: 0.3237 - dense_5_acc_2: 0.1519 - dense_5_acc_3: 0.0315 - dense_5_acc_4: 0.9411 - dense_5_acc_5: 0.0185 - dense_5_acc_6: 0.0085 - dense_5_acc_7: 0.9496 - dense_5_acc_8: 0.0156 - dense_5_acc_9: 0.00 - ETA: 34s - loss: 21.4471 - dense_5_loss: 2.8113 - dense_5_acc: 0.0196 - dense_5_acc_1: 0.3329 - dense_5_acc_2: 0.1525 - dense_5_acc_3: 0.0307 - dense_5_acc_4: 0.9432 - dense_5_acc_5: 0.0179 - dense_5_acc_6: 0.0082 - dense_5_acc_7: 0.9514 - dense_5_acc_8: 0.0150 - dense_5_acc_9: 0.00 - ETA: 32s - loss: 21.3983 - dense_5_loss: 2.8029 - dense_5_acc: 0.0190 - dense_5_acc_1: 0.3431 - dense_5_acc_2: 0.1562 - dense_5_acc_3: 0.0297 - dense_5_acc_4: 0.9452 - dense_5_acc_5: 0.0172 - dense_5_acc_6: 0.0079 - dense_5_acc_7: 0.9531 - dense_5_acc_8: 0.0145 - dense_5_acc_9: 0.00 5800/10000 [================>.............] - ETA: 31s - loss: 21.3582 - dense_5_loss: 2.8055 - dense_5_acc: 0.0183 - dense_5_acc_1: 0.3497 - dense_5_acc_2: 0.1597 - dense_5_acc_3: 0.0287 - dense_5_acc_4: 0.9470 - dense_5_acc_5: 0.0167 - dense_5_acc_6: 0.0077 - dense_5_acc_7: 0.9547 - dense_5_acc_8: 0.0140 - dense_5_acc_9: 0.00 - ETA: 30s - loss: 21.3148 - dense_5_loss: 2.8033 - dense_5_acc: 0.0177 - dense_5_acc_1: 0.3603 - dense_5_acc_2: 0.1603 - dense_5_acc_3: 0.0277 - dense_5_acc_4: 0.9487 - dense_5_acc_5: 0.0161 - dense_5_acc_6: 0.0074 - dense_5_acc_7: 0.9561 - dense_5_acc_8: 0.0187 - dense_5_acc_9: 0.01 - ETA: 29s - loss: 21.2669 - dense_5_loss: 2.8034 - dense_5_acc: 0.0172 - dense_5_acc_1: 0.3691 - dense_5_acc_2: 0.1653 - dense_5_acc_3: 0.0269 - dense_5_acc_4: 0.9503 - dense_5_acc_5: 0.0156 - dense_5_acc_6: 0.0072 - dense_5_acc_7: 0.9575 - dense_5_acc_8: 0.0181 - dense_5_acc_9: 0.01 - ETA: 28s - loss: 21.2121 - dense_5_loss: 2.8040 - dense_5_acc: 0.0167 - dense_5_acc_1: 0.3770 - dense_5_acc_2: 0.1664 - dense_5_acc_3: 0.0261 - dense_5_acc_4: 0.9518 - dense_5_acc_5: 0.0152 - dense_5_acc_6: 0.0070 - dense_5_acc_7: 0.9588 - dense_5_acc_8: 0.0176 - dense_5_acc_9: 0.01 - ETA: 27s - loss: 21.1632 - dense_5_loss: 2.8059 - dense_5_acc: 0.0162 - dense_5_acc_1: 0.3824 - dense_5_acc_2: 0.1674 - dense_5_acc_3: 0.0253 - dense_5_acc_4: 0.9532 - dense_5_acc_5: 0.0147 - dense_5_acc_6: 0.0068 - dense_5_acc_7: 0.9600 - dense_5_acc_8: 0.0171 - dense_5_acc_9: 0.01 - ETA: 26s - loss: 21.1139 - dense_5_loss: 2.8035 - dense_5_acc: 0.0157 - dense_5_acc_1: 0.3891 - dense_5_acc_2: 0.1720 - dense_5_acc_3: 0.0246 - dense_5_acc_4: 0.9546 - dense_5_acc_5: 0.0143 - dense_5_acc_6: 0.0066 - dense_5_acc_7: 0.9609 - dense_5_acc_8: 0.0277 - dense_5_acc_9: 0.02 - ETA: 25s - loss: 21.0610 - dense_5_loss: 2.7971 - dense_5_acc: 0.0189 - dense_5_acc_1: 0.3931 - dense_5_acc_2: 0.1744 - dense_5_acc_3: 0.0239 - dense_5_acc_4: 0.9558 - dense_5_acc_5: 0.0139 - dense_5_acc_6: 0.0064 - dense_5_acc_7: 0.9342 - dense_5_acc_8: 0.0353 - dense_5_acc_9: 0.02 - ETA: 24s - loss: 21.0110 - dense_5_loss: 2.7961 - dense_5_acc: 0.0341 - dense_5_acc_1: 0.3981 - dense_5_acc_2: 0.1765 - dense_5_acc_3: 0.0246 - dense_5_acc_4: 0.9570 - dense_5_acc_5: 0.0135 - dense_5_acc_6: 0.0062 - dense_5_acc_7: 0.9349 - dense_5_acc_8: 0.0441 - dense_5_acc_9: 0.02 - ETA: 23s - loss: 20.9542 - dense_5_loss: 2.7943 - dense_5_acc: 0.0508 - dense_5_acc_1: 0.4053 - dense_5_acc_2: 0.1761 - dense_5_acc_3: 0.0271 - dense_5_acc_4: 0.9582 - dense_5_acc_5: 0.0132 - dense_5_acc_6: 0.0061 - dense_5_acc_7: 0.9366 - dense_5_acc_8: 0.0445 - dense_5_acc_9: 0.03 - ETA: 23s - loss: 20.9068 - dense_5_loss: 2.7970 - dense_5_acc: 0.0656 - dense_5_acc_1: 0.4110 - dense_5_acc_2: 0.1767 - dense_5_acc_3: 0.0282 - dense_5_acc_4: 0.9592 - dense_5_acc_5: 0.0128 - dense_5_acc_6: 0.0059 - dense_5_acc_7: 0.9382 - dense_5_acc_8: 0.0433 - dense_5_acc_9: 0.03 - ETA: 22s - loss: 20.8535 - dense_5_loss: 2.7969 - dense_5_acc: 0.0778 - dense_5_acc_1: 0.4145 - dense_5_acc_2: 0.1813 - dense_5_acc_3: 0.0290 - dense_5_acc_4: 0.9602 - dense_5_acc_5: 0.0125 - dense_5_acc_6: 0.0057 - dense_5_acc_7: 0.9397 - dense_5_acc_8: 0.0423 - dense_5_acc_9: 0.02 - ETA: 21s - loss: 20.8001 - dense_5_loss: 2.7940 - dense_5_acc: 0.0900 - dense_5_acc_1: 0.4185 - dense_5_acc_2: 0.1822 - dense_5_acc_3: 0.0285 - dense_5_acc_4: 0.9612 - dense_5_acc_5: 0.0122 - dense_5_acc_6: 0.0056 - dense_5_acc_7: 0.9412 - dense_5_acc_8: 0.0412 - dense_5_acc_9: 0.03 - ETA: 21s - loss: 20.7485 - dense_5_loss: 2.7934 - dense_5_acc: 0.1026 - dense_5_acc_1: 0.4233 - dense_5_acc_2: 0.1836 - dense_5_acc_3: 0.0279 - dense_5_acc_4: 0.9621 - dense_5_acc_5: 0.0119 - dense_5_acc_6: 0.0055 - dense_5_acc_7: 0.9426 - dense_5_acc_8: 0.0476 - dense_5_acc_9: 0.03 - ETA: 20s - loss: 20.6909 - dense_5_loss: 2.7865 - dense_5_acc: 0.1156 - dense_5_acc_1: 0.4288 - dense_5_acc_2: 0.1872 - dense_5_acc_3: 0.0274 - dense_5_acc_4: 0.9630 - dense_5_acc_5: 0.0116 - dense_5_acc_6: 0.0053 - dense_5_acc_7: 0.9426 - dense_5_acc_8: 0.0535 - dense_5_acc_9: 0.03 - ETA: 19s - loss: 20.6372 - dense_5_loss: 2.7863 - dense_5_acc: 0.1264 - dense_5_acc_1: 0.4325 - dense_5_acc_2: 0.1886 - dense_5_acc_3: 0.0273 - dense_5_acc_4: 0.9639 - dense_5_acc_5: 0.0114 - dense_5_acc_6: 0.0052 - dense_5_acc_7: 0.9439 - dense_5_acc_8: 0.0616 - dense_5_acc_9: 0.04 - ETA: 19s - loss: 20.5843 - dense_5_loss: 2.7863 - dense_5_acc: 0.1396 - dense_5_acc_1: 0.4389 - dense_5_acc_2: 0.1913 - dense_5_acc_3: 0.0278 - dense_5_acc_4: 0.9647 - dense_5_acc_5: 0.0111 - dense_5_acc_6: 0.0051 - dense_5_acc_7: 0.9451 - dense_5_acc_8: 0.0656 - dense_5_acc_9: 0.04 - ETA: 18s - loss: 20.5254 - dense_5_loss: 2.7838 - dense_5_acc: 0.1515 - dense_5_acc_1: 0.4443 - dense_5_acc_2: 0.1915 - dense_5_acc_3: 0.0276 - dense_5_acc_4: 0.9654 - dense_5_acc_5: 0.0109 - dense_5_acc_6: 0.0050 - dense_5_acc_7: 0.9463 - dense_5_acc_8: 0.0693 - dense_5_acc_9: 0.04 - ETA: 18s - loss: 20.4701 - dense_5_loss: 2.7816 - dense_5_acc: 0.1621 - dense_5_acc_1: 0.4487 - dense_5_acc_2: 0.1923 - dense_5_acc_3: 0.0270 - dense_5_acc_4: 0.9662 - dense_5_acc_5: 0.0106 - dense_5_acc_6: 0.0049 - dense_5_acc_7: 0.9474 - dense_5_acc_8: 0.0747 - dense_5_acc_9: 0.04 - ETA: 17s - loss: 20.4131 - dense_5_loss: 2.7786 - dense_5_acc: 0.1721 - dense_5_acc_1: 0.4527 - dense_5_acc_2: 0.1940 - dense_5_acc_3: 0.0269 - dense_5_acc_4: 0.9669 - dense_5_acc_5: 0.0104 - dense_5_acc_6: 0.0048 - dense_5_acc_7: 0.9485 - dense_5_acc_8: 0.0808 - dense_5_acc_9: 0.04 - ETA: 16s - loss: 20.3563 - dense_5_loss: 2.7765 - dense_5_acc: 0.1806 - dense_5_acc_1: 0.4555 - dense_5_acc_2: 0.1973 - dense_5_acc_3: 0.0273 - dense_5_acc_4: 0.9676 - dense_5_acc_5: 0.0102 - dense_5_acc_6: 0.0047 - dense_5_acc_7: 0.9496 - dense_5_acc_8: 0.0876 - dense_5_acc_9: 0.04 - ETA: 16s - loss: 20.3012 - dense_5_loss: 2.7761 - dense_5_acc: 0.1882 - dense_5_acc_1: 0.4576 - dense_5_acc_2: 0.2022 - dense_5_acc_3: 0.0282 - dense_5_acc_4: 0.9682 - dense_5_acc_5: 0.0100 - dense_5_acc_6: 0.0046 - dense_5_acc_7: 0.9506 - dense_5_acc_8: 0.0928 - dense_5_acc_9: 0.04 - ETA: 15s - loss: 20.2396 - dense_5_loss: 2.7760 - dense_5_acc: 0.1982 - dense_5_acc_1: 0.4624 - dense_5_acc_2: 0.2043 - dense_5_acc_3: 0.0314 - dense_5_acc_4: 0.9688 - dense_5_acc_5: 0.0098 - dense_5_acc_6: 0.0045 - dense_5_acc_7: 0.9496 - dense_5_acc_8: 0.0986 - dense_5_acc_9: 0.05 - ETA: 15s - loss: 20.1867 - dense_5_loss: 2.7731 - dense_5_acc: 0.2052 - dense_5_acc_1: 0.4642 - dense_5_acc_2: 0.2060 - dense_5_acc_3: 0.0325 - dense_5_acc_4: 0.9694 - dense_5_acc_5: 0.0096 - dense_5_acc_6: 0.0044 - dense_5_acc_7: 0.9471 - dense_5_acc_8: 0.1025 - dense_5_acc_9: 0.05 - ETA: 15s - loss: 20.1266 - dense_5_loss: 2.7690 - dense_5_acc: 0.2132 - dense_5_acc_1: 0.4687 - dense_5_acc_2: 0.2087 - dense_5_acc_3: 0.0325 - dense_5_acc_4: 0.9700 - dense_5_acc_5: 0.0094 - dense_5_acc_6: 0.0043 - dense_5_acc_7: 0.9475 - dense_5_acc_8: 0.1042 - dense_5_acc_9: 0.05 - ETA: 14s - loss: 20.0694 - dense_5_loss: 2.7679 - dense_5_acc: 0.2206 - dense_5_acc_1: 0.4724 - dense_5_acc_2: 0.2104 - dense_5_acc_3: 0.0333 - dense_5_acc_4: 0.9706 - dense_5_acc_5: 0.0093 - dense_5_acc_6: 0.0043 - dense_5_acc_7: 0.9483 - dense_5_acc_8: 0.1069 - dense_5_acc_9: 0.05 - ETA: 14s - loss: 20.0078 - dense_5_loss: 2.7680 - dense_5_acc: 0.2289 - dense_5_acc_1: 0.4782 - dense_5_acc_2: 0.2156 - dense_5_acc_3: 0.0356 - dense_5_acc_4: 0.9711 - dense_5_acc_5: 0.0091 - dense_5_acc_6: 0.0042 - dense_5_acc_7: 0.9493 - dense_5_acc_8: 0.1069 - dense_5_acc_9: 0.05 - ETA: 13s - loss: 19.9471 - dense_5_loss: 2.7668 - dense_5_acc: 0.2362 - dense_5_acc_1: 0.4850 - dense_5_acc_2: 0.2179 - dense_5_acc_3: 0.0380 - dense_5_acc_4: 0.9716 - dense_5_acc_5: 0.0130 - dense_5_acc_6: 0.0041 - dense_5_acc_7: 0.9500 - dense_5_acc_8: 0.1102 - dense_5_acc_9: 0.05 - ETA: 13s - loss: 19.8832 - dense_5_loss: 2.7622 - dense_5_acc: 0.2435 - dense_5_acc_1: 0.4909 - dense_5_acc_2: 0.2209 - dense_5_acc_3: 0.0398 - dense_5_acc_4: 0.9721 - dense_5_acc_5: 0.0182 - dense_5_acc_6: 0.0040 - dense_5_acc_7: 0.9482 - dense_5_acc_8: 0.1151 - dense_5_acc_9: 0.06 - ETA: 12s - loss: 19.8177 - dense_5_loss: 2.7585 - dense_5_acc: 0.2503 - dense_5_acc_1: 0.4945 - dense_5_acc_2: 0.2238 - dense_5_acc_3: 0.0422 - dense_5_acc_4: 0.9726 - dense_5_acc_5: 0.0238 - dense_5_acc_6: 0.0041 - dense_5_acc_7: 0.9490 - dense_5_acc_8: 0.1190 - dense_5_acc_9: 0.0616"
     ]
    },
    {
     "name": "stdout",
     "output_type": "stream",
     "text": [
      " 8700/10000 [=========================>....] - ETA: 12s - loss: 19.7619 - dense_5_loss: 2.7566 - dense_5_acc: 0.2544 - dense_5_acc_1: 0.4990 - dense_5_acc_2: 0.2273 - dense_5_acc_3: 0.0422 - dense_5_acc_4: 0.9727 - dense_5_acc_5: 0.0336 - dense_5_acc_6: 0.0041 - dense_5_acc_7: 0.9498 - dense_5_acc_8: 0.1222 - dense_5_acc_9: 0.06 - ETA: 11s - loss: 19.6996 - dense_5_loss: 2.7537 - dense_5_acc: 0.2612 - dense_5_acc_1: 0.5040 - dense_5_acc_2: 0.2298 - dense_5_acc_3: 0.0427 - dense_5_acc_4: 0.9730 - dense_5_acc_5: 0.0443 - dense_5_acc_6: 0.0043 - dense_5_acc_7: 0.9507 - dense_5_acc_8: 0.1233 - dense_5_acc_9: 0.06 - ETA: 11s - loss: 19.6389 - dense_5_loss: 2.7504 - dense_5_acc: 0.2666 - dense_5_acc_1: 0.5072 - dense_5_acc_2: 0.2326 - dense_5_acc_3: 0.0439 - dense_5_acc_4: 0.9734 - dense_5_acc_5: 0.0511 - dense_5_acc_6: 0.0043 - dense_5_acc_7: 0.9515 - dense_5_acc_8: 0.1259 - dense_5_acc_9: 0.06 - ETA: 11s - loss: 19.5778 - dense_5_loss: 2.7476 - dense_5_acc: 0.2718 - dense_5_acc_1: 0.5127 - dense_5_acc_2: 0.2355 - dense_5_acc_3: 0.0450 - dense_5_acc_4: 0.9737 - dense_5_acc_5: 0.0621 - dense_5_acc_6: 0.0042 - dense_5_acc_7: 0.9515 - dense_5_acc_8: 0.1298 - dense_5_acc_9: 0.06 - ETA: 10s - loss: 19.5149 - dense_5_loss: 2.7451 - dense_5_acc: 0.2779 - dense_5_acc_1: 0.5179 - dense_5_acc_2: 0.2376 - dense_5_acc_3: 0.0457 - dense_5_acc_4: 0.9741 - dense_5_acc_5: 0.0733 - dense_5_acc_6: 0.0043 - dense_5_acc_7: 0.9521 - dense_5_acc_8: 0.1324 - dense_5_acc_9: 0.06 - ETA: 10s - loss: 19.4534 - dense_5_loss: 2.7425 - dense_5_acc: 0.2836 - dense_5_acc_1: 0.5222 - dense_5_acc_2: 0.2403 - dense_5_acc_3: 0.0470 - dense_5_acc_4: 0.9745 - dense_5_acc_5: 0.0809 - dense_5_acc_6: 0.0042 - dense_5_acc_7: 0.9528 - dense_5_acc_8: 0.1345 - dense_5_acc_9: 0.06 - ETA: 10s - loss: 19.3880 - dense_5_loss: 2.7393 - dense_5_acc: 0.2895 - dense_5_acc_1: 0.5278 - dense_5_acc_2: 0.2425 - dense_5_acc_3: 0.0471 - dense_5_acc_4: 0.9749 - dense_5_acc_5: 0.0909 - dense_5_acc_6: 0.0042 - dense_5_acc_7: 0.9535 - dense_5_acc_8: 0.1345 - dense_5_acc_9: 0.06 - ETA: 9s - loss: 19.3256 - dense_5_loss: 2.7360 - dense_5_acc: 0.2947 - dense_5_acc_1: 0.5332 - dense_5_acc_2: 0.2450 - dense_5_acc_3: 0.0468 - dense_5_acc_4: 0.9753 - dense_5_acc_5: 0.1009 - dense_5_acc_6: 0.0041 - dense_5_acc_7: 0.9542 - dense_5_acc_8: 0.1338 - dense_5_acc_9: 0.0671 - ETA: 9s - loss: 19.2608 - dense_5_loss: 2.7334 - dense_5_acc: 0.2997 - dense_5_acc_1: 0.5384 - dense_5_acc_2: 0.2472 - dense_5_acc_3: 0.0497 - dense_5_acc_4: 0.9757 - dense_5_acc_5: 0.1115 - dense_5_acc_6: 0.0043 - dense_5_acc_7: 0.9548 - dense_5_acc_8: 0.1343 - dense_5_acc_9: 0.067 - ETA: 8s - loss: 19.1980 - dense_5_loss: 2.7306 - dense_5_acc: 0.3041 - dense_5_acc_1: 0.5428 - dense_5_acc_2: 0.2491 - dense_5_acc_3: 0.0501 - dense_5_acc_4: 0.9760 - dense_5_acc_5: 0.1204 - dense_5_acc_6: 0.0057 - dense_5_acc_7: 0.9554 - dense_5_acc_8: 0.1376 - dense_5_acc_9: 0.068 - ETA: 8s - loss: 19.1358 - dense_5_loss: 2.7270 - dense_5_acc: 0.3080 - dense_5_acc_1: 0.5471 - dense_5_acc_2: 0.2507 - dense_5_acc_3: 0.0504 - dense_5_acc_4: 0.9764 - dense_5_acc_5: 0.1304 - dense_5_acc_6: 0.0059 - dense_5_acc_7: 0.9561 - dense_5_acc_8: 0.1419 - dense_5_acc_9: 0.068 - ETA: 8s - loss: 19.0719 - dense_5_loss: 2.7228 - dense_5_acc: 0.3144 - dense_5_acc_1: 0.5521 - dense_5_acc_2: 0.2524 - dense_5_acc_3: 0.0509 - dense_5_acc_4: 0.9767 - dense_5_acc_5: 0.1397 - dense_5_acc_6: 0.0060 - dense_5_acc_7: 0.9567 - dense_5_acc_8: 0.1451 - dense_5_acc_9: 0.069 - ETA: 7s - loss: 19.0011 - dense_5_loss: 2.7186 - dense_5_acc: 0.3200 - dense_5_acc_1: 0.5572 - dense_5_acc_2: 0.2548 - dense_5_acc_3: 0.0515 - dense_5_acc_4: 0.9770 - dense_5_acc_5: 0.1462 - dense_5_acc_6: 0.0068 - dense_5_acc_7: 0.9573 - dense_5_acc_8: 0.1493 - dense_5_acc_9: 0.071 - ETA: 7s - loss: 18.9327 - dense_5_loss: 2.7166 - dense_5_acc: 0.3256 - dense_5_acc_1: 0.5611 - dense_5_acc_2: 0.2567 - dense_5_acc_3: 0.0526 - dense_5_acc_4: 0.9774 - dense_5_acc_5: 0.1547 - dense_5_acc_6: 0.0079 - dense_5_acc_7: 0.9579 - dense_5_acc_8: 0.1524 - dense_5_acc_9: 0.071 - ETA: 7s - loss: 18.8587 - dense_5_loss: 2.7128 - dense_5_acc: 0.3308 - dense_5_acc_1: 0.5659 - dense_5_acc_2: 0.2575 - dense_5_acc_3: 0.0533 - dense_5_acc_4: 0.9777 - dense_5_acc_5: 0.1634 - dense_5_acc_6: 0.0084 - dense_5_acc_7: 0.9585 - dense_5_acc_8: 0.1567 - dense_5_acc_9: 0.073 - ETA: 6s - loss: 18.7864 - dense_5_loss: 2.7089 - dense_5_acc: 0.3374 - dense_5_acc_1: 0.5705 - dense_5_acc_2: 0.2591 - dense_5_acc_3: 0.0539 - dense_5_acc_4: 0.9780 - dense_5_acc_5: 0.1722 - dense_5_acc_6: 0.0086 - dense_5_acc_7: 0.9591 - dense_5_acc_8: 0.1585 - dense_5_acc_9: 0.073 - ETA: 6s - loss: 18.7079 - dense_5_loss: 2.7046 - dense_5_acc: 0.3441 - dense_5_acc_1: 0.5753 - dense_5_acc_2: 0.2603 - dense_5_acc_3: 0.0557 - dense_5_acc_4: 0.9783 - dense_5_acc_5: 0.1793 - dense_5_acc_6: 0.0097 - dense_5_acc_7: 0.9596 - dense_5_acc_8: 0.1619 - dense_5_acc_9: 0.074 - ETA: 6s - loss: 18.6299 - dense_5_loss: 2.7004 - dense_5_acc: 0.3492 - dense_5_acc_1: 0.5797 - dense_5_acc_2: 0.2626 - dense_5_acc_3: 0.0564 - dense_5_acc_4: 0.9786 - dense_5_acc_5: 0.1868 - dense_5_acc_6: 0.0108 - dense_5_acc_7: 0.9601 - dense_5_acc_8: 0.1645 - dense_5_acc_9: 0.074 - ETA: 6s - loss: 18.5522 - dense_5_loss: 2.6958 - dense_5_acc: 0.3551 - dense_5_acc_1: 0.5835 - dense_5_acc_2: 0.2640 - dense_5_acc_3: 0.0571 - dense_5_acc_4: 0.9788 - dense_5_acc_5: 0.1930 - dense_5_acc_6: 0.0126 - dense_5_acc_7: 0.9606 - dense_5_acc_8: 0.1671 - dense_5_acc_9: 0.075 - ETA: 5s - loss: 18.4741 - dense_5_loss: 2.6905 - dense_5_acc: 0.3618 - dense_5_acc_1: 0.5879 - dense_5_acc_2: 0.2659 - dense_5_acc_3: 0.0578 - dense_5_acc_4: 0.9791 - dense_5_acc_5: 0.2012 - dense_5_acc_6: 0.0133 - dense_5_acc_7: 0.9612 - dense_5_acc_8: 0.1704 - dense_5_acc_9: 0.076 - ETA: 5s - loss: 18.3940 - dense_5_loss: 2.6857 - dense_5_acc: 0.3685 - dense_5_acc_1: 0.5923 - dense_5_acc_2: 0.2687 - dense_5_acc_3: 0.0580 - dense_5_acc_4: 0.9794 - dense_5_acc_5: 0.2080 - dense_5_acc_6: 0.0141 - dense_5_acc_7: 0.9616 - dense_5_acc_8: 0.1735 - dense_5_acc_9: 0.076 - ETA: 5s - loss: 18.3137 - dense_5_loss: 2.6815 - dense_5_acc: 0.3750 - dense_5_acc_1: 0.5966 - dense_5_acc_2: 0.2711 - dense_5_acc_3: 0.0585 - dense_5_acc_4: 0.9796 - dense_5_acc_5: 0.2163 - dense_5_acc_6: 0.0144 - dense_5_acc_7: 0.9621 - dense_5_acc_8: 0.1751 - dense_5_acc_9: 0.077 - ETA: 4s - loss: 18.2341 - dense_5_loss: 2.6766 - dense_5_acc: 0.3802 - dense_5_acc_1: 0.6009 - dense_5_acc_2: 0.2727 - dense_5_acc_3: 0.0596 - dense_5_acc_4: 0.9799 - dense_5_acc_5: 0.2222 - dense_5_acc_6: 0.0153 - dense_5_acc_7: 0.9626 - dense_5_acc_8: 0.1781 - dense_5_acc_9: 0.077 - ETA: 4s - loss: 18.1573 - dense_5_loss: 2.6726 - dense_5_acc: 0.3855 - dense_5_acc_1: 0.6044 - dense_5_acc_2: 0.2745 - dense_5_acc_3: 0.0604 - dense_5_acc_4: 0.9801 - dense_5_acc_5: 0.2288 - dense_5_acc_6: 0.0163 - dense_5_acc_7: 0.9630 - dense_5_acc_8: 0.1807 - dense_5_acc_9: 0.077 - ETA: 4s - loss: 18.0772 - dense_5_loss: 2.6685 - dense_5_acc: 0.3917 - dense_5_acc_1: 0.6089 - dense_5_acc_2: 0.2760 - dense_5_acc_3: 0.0611 - dense_5_acc_4: 0.9804 - dense_5_acc_5: 0.2359 - dense_5_acc_6: 0.0167 - dense_5_acc_7: 0.9635 - dense_5_acc_8: 0.1827 - dense_5_acc_9: 0.078 - ETA: 4s - loss: 17.9975 - dense_5_loss: 2.6636 - dense_5_acc: 0.3960 - dense_5_acc_1: 0.6129 - dense_5_acc_2: 0.2787 - dense_5_acc_3: 0.0625 - dense_5_acc_4: 0.9806 - dense_5_acc_5: 0.2418 - dense_5_acc_6: 0.0179 - dense_5_acc_7: 0.9639 - dense_5_acc_8: 0.1854 - dense_5_acc_9: 0.079 - ETA: 3s - loss: 17.9205 - dense_5_loss: 2.6600 - dense_5_acc: 0.4011 - dense_5_acc_1: 0.6172 - dense_5_acc_2: 0.2799 - dense_5_acc_3: 0.0635 - dense_5_acc_4: 0.9808 - dense_5_acc_5: 0.2486 - dense_5_acc_6: 0.0186 - dense_5_acc_7: 0.9644 - dense_5_acc_8: 0.1874 - dense_5_acc_9: 0.080 - ETA: 3s - loss: 17.8450 - dense_5_loss: 2.6567 - dense_5_acc: 0.4065 - dense_5_acc_1: 0.6209 - dense_5_acc_2: 0.2808 - dense_5_acc_3: 0.0641 - dense_5_acc_4: 0.9810 - dense_5_acc_5: 0.2545 - dense_5_acc_6: 0.0201 - dense_5_acc_7: 0.9648 - dense_5_acc_8: 0.1894 - dense_5_acc_9: 0.079 - ETA: 3s - loss: 17.7666 - dense_5_loss: 2.6519 - dense_5_acc: 0.4121 - dense_5_acc_1: 0.6245 - dense_5_acc_2: 0.2822 - dense_5_acc_3: 0.0643 - dense_5_acc_4: 0.9813 - dense_5_acc_5: 0.2594 - dense_5_acc_6: 0.0216 - dense_5_acc_7: 0.9652 - dense_5_acc_8: 0.1911 - dense_5_acc_9: 0.0808"
     ]
    },
    {
     "name": "stdout",
     "output_type": "stream",
     "text": [
      "10000/10000 [==============================] - ETA: 2s - loss: 17.6876 - dense_5_loss: 2.6477 - dense_5_acc: 0.4176 - dense_5_acc_1: 0.6286 - dense_5_acc_2: 0.2841 - dense_5_acc_3: 0.0652 - dense_5_acc_4: 0.9815 - dense_5_acc_5: 0.2655 - dense_5_acc_6: 0.0218 - dense_5_acc_7: 0.9656 - dense_5_acc_8: 0.1934 - dense_5_acc_9: 0.081 - ETA: 2s - loss: 17.6124 - dense_5_loss: 2.6431 - dense_5_acc: 0.4233 - dense_5_acc_1: 0.6320 - dense_5_acc_2: 0.2860 - dense_5_acc_3: 0.0664 - dense_5_acc_4: 0.9817 - dense_5_acc_5: 0.2711 - dense_5_acc_6: 0.0230 - dense_5_acc_7: 0.9660 - dense_5_acc_8: 0.1946 - dense_5_acc_9: 0.082 - ETA: 2s - loss: 17.5365 - dense_5_loss: 2.6387 - dense_5_acc: 0.4282 - dense_5_acc_1: 0.6357 - dense_5_acc_2: 0.2881 - dense_5_acc_3: 0.0671 - dense_5_acc_4: 0.9819 - dense_5_acc_5: 0.2768 - dense_5_acc_6: 0.0249 - dense_5_acc_7: 0.9663 - dense_5_acc_8: 0.1967 - dense_5_acc_9: 0.082 - ETA: 2s - loss: 17.4663 - dense_5_loss: 2.6351 - dense_5_acc: 0.4316 - dense_5_acc_1: 0.6389 - dense_5_acc_2: 0.2905 - dense_5_acc_3: 0.0677 - dense_5_acc_4: 0.9821 - dense_5_acc_5: 0.2814 - dense_5_acc_6: 0.0267 - dense_5_acc_7: 0.9667 - dense_5_acc_8: 0.1988 - dense_5_acc_9: 0.083 - ETA: 1s - loss: 17.3924 - dense_5_loss: 2.6306 - dense_5_acc: 0.4363 - dense_5_acc_1: 0.6425 - dense_5_acc_2: 0.2924 - dense_5_acc_3: 0.0684 - dense_5_acc_4: 0.9823 - dense_5_acc_5: 0.2873 - dense_5_acc_6: 0.0282 - dense_5_acc_7: 0.9671 - dense_5_acc_8: 0.2002 - dense_5_acc_9: 0.085 - ETA: 1s - loss: 17.3178 - dense_5_loss: 2.6266 - dense_5_acc: 0.4416 - dense_5_acc_1: 0.6459 - dense_5_acc_2: 0.2942 - dense_5_acc_3: 0.0695 - dense_5_acc_4: 0.9825 - dense_5_acc_5: 0.2927 - dense_5_acc_6: 0.0303 - dense_5_acc_7: 0.9674 - dense_5_acc_8: 0.2022 - dense_5_acc_9: 0.085 - ETA: 1s - loss: 17.2452 - dense_5_loss: 2.6227 - dense_5_acc: 0.4468 - dense_5_acc_1: 0.6491 - dense_5_acc_2: 0.2962 - dense_5_acc_3: 0.0698 - dense_5_acc_4: 0.9827 - dense_5_acc_5: 0.2980 - dense_5_acc_6: 0.0321 - dense_5_acc_7: 0.9678 - dense_5_acc_8: 0.2047 - dense_5_acc_9: 0.086 - ETA: 1s - loss: 17.1742 - dense_5_loss: 2.6196 - dense_5_acc: 0.4523 - dense_5_acc_1: 0.6523 - dense_5_acc_2: 0.2975 - dense_5_acc_3: 0.0709 - dense_5_acc_4: 0.9828 - dense_5_acc_5: 0.3033 - dense_5_acc_6: 0.0343 - dense_5_acc_7: 0.9681 - dense_5_acc_8: 0.2066 - dense_5_acc_9: 0.086 - ETA: 0s - loss: 17.1038 - dense_5_loss: 2.6167 - dense_5_acc: 0.4572 - dense_5_acc_1: 0.6551 - dense_5_acc_2: 0.2991 - dense_5_acc_3: 0.0723 - dense_5_acc_4: 0.9830 - dense_5_acc_5: 0.3080 - dense_5_acc_6: 0.0363 - dense_5_acc_7: 0.9684 - dense_5_acc_8: 0.2092 - dense_5_acc_9: 0.086 - ETA: 0s - loss: 17.0354 - dense_5_loss: 2.6133 - dense_5_acc: 0.4623 - dense_5_acc_1: 0.6581 - dense_5_acc_2: 0.3019 - dense_5_acc_3: 0.0725 - dense_5_acc_4: 0.9832 - dense_5_acc_5: 0.3126 - dense_5_acc_6: 0.0376 - dense_5_acc_7: 0.9688 - dense_5_acc_8: 0.2105 - dense_5_acc_9: 0.087 - ETA: 0s - loss: 16.9650 - dense_5_loss: 2.6095 - dense_5_acc: 0.4668 - dense_5_acc_1: 0.6613 - dense_5_acc_2: 0.3042 - dense_5_acc_3: 0.0732 - dense_5_acc_4: 0.9834 - dense_5_acc_5: 0.3179 - dense_5_acc_6: 0.0398 - dense_5_acc_7: 0.9691 - dense_5_acc_8: 0.2121 - dense_5_acc_9: 0.088 - ETA: 0s - loss: 16.9011 - dense_5_loss: 2.6065 - dense_5_acc: 0.4710 - dense_5_acc_1: 0.6638 - dense_5_acc_2: 0.3062 - dense_5_acc_3: 0.0742 - dense_5_acc_4: 0.9835 - dense_5_acc_5: 0.3224 - dense_5_acc_6: 0.0418 - dense_5_acc_7: 0.9694 - dense_5_acc_8: 0.2143 - dense_5_acc_9: 0.088 - 24s 2ms/step - loss: 16.8340 - dense_5_loss: 2.6027 - dense_5_acc: 0.4753 - dense_5_acc_1: 0.6665 - dense_5_acc_2: 0.3075 - dense_5_acc_3: 0.0747 - dense_5_acc_4: 0.9837 - dense_5_acc_5: 0.3276 - dense_5_acc_6: 0.0442 - dense_5_acc_7: 0.9697 - dense_5_acc_8: 0.2165 - dense_5_acc_9: 0.0899\n"
     ]
    },
    {
     "data": {
      "text/plain": [
       "<keras.callbacks.History at 0x29e1f938dd8>"
      ]
     },
     "execution_count": 21,
     "metadata": {},
     "output_type": "execute_result"
    }
   ],
   "source": [
    "model.fit([Xoh, s0, c0], outputs, epochs=1, batch_size=100)"
   ]
  },
  {
   "cell_type": "markdown",
   "metadata": {},
   "source": [
    "While training you can see the loss as well as the accuracy on each of the 10 positions of the output. The table below gives you an example of what the accuracies could be if the batch had 2 examples: \n",
    "\n",
    "<img src=\"images/table.png\" style=\"width:700;height:200px;\"> <br>\n",
    "<caption><center>Thus, `dense_2_acc_8: 0.89` means that you are predicting the 7th character of the output correctly 89% of the time in the current batch of data. </center></caption>\n",
    "\n",
    "\n",
    "We have run this model for longer, and saved the weights. Run the next cell to load our weights. (By training a model for several minutes, you should be able to obtain a model of similar accuracy, but loading our model will save you time.) "
   ]
  },
  {
   "cell_type": "code",
   "execution_count": 24,
   "metadata": {
    "collapsed": true
   },
   "outputs": [],
   "source": [
    "model.load_weights('models/model.h5')"
   ]
  },
  {
   "cell_type": "markdown",
   "metadata": {},
   "source": [
    "You can now see the results on new examples."
   ]
  },
  {
   "cell_type": "code",
   "execution_count": 26,
   "metadata": {},
   "outputs": [
    {
     "name": "stdout",
     "output_type": "stream",
     "text": [
      "source: 3 May 1979\n",
      "output: 1979-05-03\n",
      "source: 5 April 09\n",
      "output: 2009-05-05\n",
      "source: 21th of August 2016\n",
      "output: 2016-08-21\n",
      "source: Tue 10 Jul 2007\n",
      "output: 2007-07-10\n",
      "source: Saturday May 9 2018\n",
      "output: 2018-05-09\n",
      "source: March 3 2001\n",
      "output: 2001-03-03\n",
      "source: March 3rd 2001\n",
      "output: 2001-03-03\n",
      "source: 1 March 2001\n",
      "output: 2001-03-01\n"
     ]
    }
   ],
   "source": [
    "EXAMPLES = ['3 May 1979', '5 April 09', '21th of August 2016', 'Tue 10 Jul 2007', 'Saturday May 9 2018', 'March 3 2001', 'March 3rd 2001', '1 March 2001']\n",
    "for example in EXAMPLES:\n",
    "    \n",
    "    source = string_to_int(example, Tx, human_vocab)\n",
    "    #source = np.array(list(map(lambda x: to_categorical(x, num_classes=len(human_vocab)), source))).swapaxes(0,1)\n",
    "    #prediction = model.predict([source, s0, c0])\n",
    "    #https://blog.csdn.net/wwangfabei1989/article/details/80435622\n",
    "    source = np.array(list(map(lambda x: to_categorical(x, num_classes=len(human_vocab)), source))) #不能变换数据维度 ，  \n",
    "    ttt=np.expand_dims(source,axis=0) # 在 axis=0的位置 ，增加一个维度，以适应输入维度要求\n",
    "    prediction = model.predict([ttt, s0, c0])\n",
    "\n",
    "    prediction = np.argmax(prediction, axis = -1)\n",
    "    output = [inv_machine_vocab[int(i)] for i in prediction]\n",
    "    \n",
    "    print(\"source:\", example)\n",
    "    print(\"output:\", ''.join(output))"
   ]
  },
  {
   "cell_type": "markdown",
   "metadata": {},
   "source": [
    "You can also change these examples to test with your own examples. The next part will give you a better sense on what the attention mechanism is doing--i.e., what part of the input the network is paying attention to when generating a particular output character. "
   ]
  },
  {
   "cell_type": "markdown",
   "metadata": {},
   "source": [
    "## 3 - Visualizing Attention (Optional / Ungraded)\n",
    "\n",
    "Since the problem has a fixed output length of 10, it is also possible to carry out this task using 10 different softmax units to generate the 10 characters of the output. But one advantage of the attention model is that each part of the output (say the month) knows it needs to depend only on a small part of the input (the characters in the input giving the month). We can  visualize what part of the output is looking at what part of the input.\n",
    "\n",
    "Consider the task of translating \"Saturday 9 May 2018\" to \"2018-05-09\". If we visualize the computed $\\alpha^{\\langle t, t' \\rangle}$ we get this: \n",
    "\n",
    "<img src=\"images/date_attention.png\" style=\"width:600;height:300px;\"> <br>\n",
    "<caption><center> **Figure 8**: Full Attention Map</center></caption>\n",
    "\n",
    "Notice how the output ignores the \"Saturday\" portion of the input. None of the output timesteps are paying much attention to that portion of the input. We see also that 9 has been translated as 09 and May has been correctly translated into 05, with the output paying attention to the parts of the input it needs to to make the translation. The year mostly requires it to pay attention to the input's \"18\" in order to generate \"2018.\" \n",
    "\n"
   ]
  },
  {
   "cell_type": "markdown",
   "metadata": {},
   "source": [
    "### 3.1 - Getting the activations from the network\n",
    "\n",
    "Lets now visualize the attention values in your network. We'll propagate an example through the network, then visualize the values of $\\alpha^{\\langle t, t' \\rangle}$. \n",
    "\n",
    "To figure out where the attention values are located, let's start by printing a summary of the model ."
   ]
  },
  {
   "cell_type": "code",
   "execution_count": 27,
   "metadata": {},
   "outputs": [
    {
     "name": "stdout",
     "output_type": "stream",
     "text": [
      "__________________________________________________________________________________________________\n",
      "Layer (type)                    Output Shape         Param #     Connected to                     \n",
      "==================================================================================================\n",
      "input_3 (InputLayer)            (None, 30, 37)       0                                            \n",
      "__________________________________________________________________________________________________\n",
      "s0 (InputLayer)                 (None, 64)           0                                            \n",
      "__________________________________________________________________________________________________\n",
      "bidirectional_3 (Bidirectional) (None, 30, 64)       17920       input_3[0][0]                    \n",
      "__________________________________________________________________________________________________\n",
      "repeat_vector_1 (RepeatVector)  multiple             0           s0[0][0]                         \n",
      "                                                                 lstm_5[0][0]                     \n",
      "                                                                 lstm_5[1][0]                     \n",
      "                                                                 lstm_5[2][0]                     \n",
      "                                                                 lstm_5[3][0]                     \n",
      "                                                                 lstm_5[4][0]                     \n",
      "                                                                 lstm_5[5][0]                     \n",
      "                                                                 lstm_5[6][0]                     \n",
      "                                                                 lstm_5[7][0]                     \n",
      "                                                                 lstm_5[8][0]                     \n",
      "__________________________________________________________________________________________________\n",
      "concatenate_1 (Concatenate)     multiple             0           bidirectional_3[0][0]            \n",
      "                                                                 repeat_vector_1[11][0]           \n",
      "                                                                 bidirectional_3[0][0]            \n",
      "                                                                 repeat_vector_1[12][0]           \n",
      "                                                                 bidirectional_3[0][0]            \n",
      "                                                                 repeat_vector_1[13][0]           \n",
      "                                                                 bidirectional_3[0][0]            \n",
      "                                                                 repeat_vector_1[14][0]           \n",
      "                                                                 bidirectional_3[0][0]            \n",
      "                                                                 repeat_vector_1[15][0]           \n",
      "                                                                 bidirectional_3[0][0]            \n",
      "                                                                 repeat_vector_1[16][0]           \n",
      "                                                                 bidirectional_3[0][0]            \n",
      "                                                                 repeat_vector_1[17][0]           \n",
      "                                                                 bidirectional_3[0][0]            \n",
      "                                                                 repeat_vector_1[18][0]           \n",
      "                                                                 bidirectional_3[0][0]            \n",
      "                                                                 repeat_vector_1[19][0]           \n",
      "                                                                 bidirectional_3[0][0]            \n",
      "                                                                 repeat_vector_1[20][0]           \n",
      "__________________________________________________________________________________________________\n",
      "dense_1 (Dense)                 (None, 30, 10)       1290        concatenate_1[11][0]             \n",
      "                                                                 concatenate_1[12][0]             \n",
      "                                                                 concatenate_1[13][0]             \n",
      "                                                                 concatenate_1[14][0]             \n",
      "                                                                 concatenate_1[15][0]             \n",
      "                                                                 concatenate_1[16][0]             \n",
      "                                                                 concatenate_1[17][0]             \n",
      "                                                                 concatenate_1[18][0]             \n",
      "                                                                 concatenate_1[19][0]             \n",
      "                                                                 concatenate_1[20][0]             \n",
      "__________________________________________________________________________________________________\n",
      "dense_2 (Dense)                 (None, 30, 1)        11          dense_1[10][0]                   \n",
      "                                                                 dense_1[11][0]                   \n",
      "                                                                 dense_1[12][0]                   \n",
      "                                                                 dense_1[13][0]                   \n",
      "                                                                 dense_1[14][0]                   \n",
      "                                                                 dense_1[15][0]                   \n",
      "                                                                 dense_1[16][0]                   \n",
      "                                                                 dense_1[17][0]                   \n",
      "                                                                 dense_1[18][0]                   \n",
      "                                                                 dense_1[19][0]                   \n",
      "__________________________________________________________________________________________________\n",
      "attention_weights (Activation)  (None, 30, 1)        0           dense_2[10][0]                   \n",
      "                                                                 dense_2[11][0]                   \n",
      "                                                                 dense_2[12][0]                   \n",
      "                                                                 dense_2[13][0]                   \n",
      "                                                                 dense_2[14][0]                   \n",
      "                                                                 dense_2[15][0]                   \n",
      "                                                                 dense_2[16][0]                   \n",
      "                                                                 dense_2[17][0]                   \n",
      "                                                                 dense_2[18][0]                   \n",
      "                                                                 dense_2[19][0]                   \n",
      "__________________________________________________________________________________________________\n",
      "dot_1 (Dot)                     (None, 1, 64)        0           attention_weights[10][0]         \n",
      "                                                                 bidirectional_3[0][0]            \n",
      "                                                                 attention_weights[11][0]         \n",
      "                                                                 bidirectional_3[0][0]            \n",
      "                                                                 attention_weights[12][0]         \n",
      "                                                                 bidirectional_3[0][0]            \n",
      "                                                                 attention_weights[13][0]         \n",
      "                                                                 bidirectional_3[0][0]            \n"
     ]
    },
    {
     "name": "stdout",
     "output_type": "stream",
     "text": [
      "                                                                 attention_weights[14][0]         \n",
      "                                                                 bidirectional_3[0][0]            \n",
      "                                                                 attention_weights[15][0]         \n",
      "                                                                 bidirectional_3[0][0]            \n",
      "                                                                 attention_weights[16][0]         \n",
      "                                                                 bidirectional_3[0][0]            \n",
      "                                                                 attention_weights[17][0]         \n",
      "                                                                 bidirectional_3[0][0]            \n",
      "                                                                 attention_weights[18][0]         \n",
      "                                                                 bidirectional_3[0][0]            \n",
      "                                                                 attention_weights[19][0]         \n",
      "                                                                 bidirectional_3[0][0]            \n",
      "__________________________________________________________________________________________________\n",
      "c0 (InputLayer)                 (None, 64)           0                                            \n",
      "__________________________________________________________________________________________________\n",
      "lstm_5 (LSTM)                   [(None, 64), (None,  33024       dot_1[10][0]                     \n",
      "                                                                 s0[0][0]                         \n",
      "                                                                 c0[0][0]                         \n",
      "                                                                 dot_1[11][0]                     \n",
      "                                                                 lstm_5[0][0]                     \n",
      "                                                                 lstm_5[0][2]                     \n",
      "                                                                 dot_1[12][0]                     \n",
      "                                                                 lstm_5[1][0]                     \n",
      "                                                                 lstm_5[1][2]                     \n",
      "                                                                 dot_1[13][0]                     \n",
      "                                                                 lstm_5[2][0]                     \n",
      "                                                                 lstm_5[2][2]                     \n",
      "                                                                 dot_1[14][0]                     \n",
      "                                                                 lstm_5[3][0]                     \n",
      "                                                                 lstm_5[3][2]                     \n",
      "                                                                 dot_1[15][0]                     \n",
      "                                                                 lstm_5[4][0]                     \n",
      "                                                                 lstm_5[4][2]                     \n",
      "                                                                 dot_1[16][0]                     \n",
      "                                                                 lstm_5[5][0]                     \n",
      "                                                                 lstm_5[5][2]                     \n",
      "                                                                 dot_1[17][0]                     \n",
      "                                                                 lstm_5[6][0]                     \n",
      "                                                                 lstm_5[6][2]                     \n",
      "                                                                 dot_1[18][0]                     \n",
      "                                                                 lstm_5[7][0]                     \n",
      "                                                                 lstm_5[7][2]                     \n",
      "                                                                 dot_1[19][0]                     \n",
      "                                                                 lstm_5[8][0]                     \n",
      "                                                                 lstm_5[8][2]                     \n",
      "__________________________________________________________________________________________________\n",
      "dense_5 (Dense)                 (None, 11)           715         lstm_5[0][0]                     \n",
      "                                                                 lstm_5[1][0]                     \n",
      "                                                                 lstm_5[2][0]                     \n",
      "                                                                 lstm_5[3][0]                     \n",
      "                                                                 lstm_5[4][0]                     \n",
      "                                                                 lstm_5[5][0]                     \n",
      "                                                                 lstm_5[6][0]                     \n",
      "                                                                 lstm_5[7][0]                     \n",
      "                                                                 lstm_5[8][0]                     \n",
      "                                                                 lstm_5[9][0]                     \n",
      "==================================================================================================\n",
      "Total params: 52,960\n",
      "Trainable params: 52,960\n",
      "Non-trainable params: 0\n",
      "__________________________________________________________________________________________________\n"
     ]
    }
   ],
   "source": [
    "model.summary()"
   ]
  },
  {
   "cell_type": "markdown",
   "metadata": {},
   "source": [
    "Navigate through the output of `model.summary()` above. You can see that the layer named `attention_weights` outputs the `alphas` of shape (m, 30, 1) before `dot_2` computes the context vector for every time step $t = 0, \\ldots, T_y-1$. Lets get the activations from this layer.\n",
    "\n",
    "The function `attention_map()` pulls out the attention values from your model and plots them."
   ]
  },
  {
   "cell_type": "code",
   "execution_count": null,
   "metadata": {
    "scrolled": false
   },
   "outputs": [],
   "source": [
    "attention_map = plot_attention_map(model, human_vocab, inv_machine_vocab, \"Tuesday 09 Oct 1993\", num = 7, n_s = 64)"
   ]
  },
  {
   "cell_type": "markdown",
   "metadata": {},
   "source": [
    "On the generated plot you can observe the values of the attention weights for each character of the predicted output. Examine this plot and check that where the network is paying attention makes sense to you.\n",
    "\n",
    "In the date translation application, you will observe that most of the time attention helps predict the year, and hasn't much impact on predicting the day/month."
   ]
  },
  {
   "cell_type": "markdown",
   "metadata": {},
   "source": [
    "### Congratulations!\n",
    "\n",
    "\n",
    "You have come to the end of this assignment \n",
    "\n",
    "<font color='blue'> **Here's what you should remember from this notebook**:\n",
    "\n",
    "- Machine translation models can be used to map from one sequence to another. They are useful not just for translating human languages (like French->English) but also for tasks like date format translation. \n",
    "- An attention mechanism allows a network to focus on the most relevant parts of the input when producing a specific part of the output. \n",
    "- A network using an attention mechanism can translate from inputs of length $T_x$ to outputs of length $T_y$, where $T_x$ and $T_y$ can be different. \n",
    "- You can visualize attention weights $\\alpha^{\\langle t,t' \\rangle}$ to see what the network is paying attention to while generating each output."
   ]
  },
  {
   "cell_type": "markdown",
   "metadata": {},
   "source": [
    "Congratulations on finishing this assignment! You are now able to implement an attention model and use it to learn complex mappings from one sequence to another. "
   ]
  }
 ],
 "metadata": {
  "coursera": {
   "course_slug": "nlp-sequence-models",
   "graded_item_id": "n16CQ",
   "launcher_item_id": "npjGi"
  },
  "kernelspec": {
   "display_name": "Python 3",
   "language": "python",
   "name": "python3"
  },
  "language_info": {
   "codemirror_mode": {
    "name": "ipython",
    "version": 3
   },
   "file_extension": ".py",
   "mimetype": "text/x-python",
   "name": "python",
   "nbconvert_exporter": "python",
   "pygments_lexer": "ipython3",
   "version": "3.6.7"
  }
 },
 "nbformat": 4,
 "nbformat_minor": 2
}
